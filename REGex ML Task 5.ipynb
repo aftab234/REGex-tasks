{
 "cells": [
  {
   "cell_type": "markdown",
   "id": "31642880",
   "metadata": {},
   "source": [
    "## #Task-5\n",
    "### Name: Aftab Ahmed\n",
    "### Registration ID: SIRSS2310"
   ]
  },
  {
   "cell_type": "markdown",
   "id": "b119903c",
   "metadata": {},
   "source": [
    "#### Q1. Given a list of integers, write a function to return the sum of all prime numbers in that list."
   ]
  },
  {
   "cell_type": "code",
   "execution_count": 1,
   "id": "2d4ce571",
   "metadata": {},
   "outputs": [
    {
     "name": "stdout",
     "output_type": "stream",
     "text": [
      "Enter the numbers separated by space: 1 2 3 4 5 7 10 13\n",
      "The sum of all prime numbers in the list is:  30\n"
     ]
    }
   ],
   "source": [
    "numbers=input('Enter the numbers separated by space: ').split(' ')\n",
    "numbers = [int(i) for i in numbers]\n",
    "primeSum=0\n",
    "for n in numbers:\n",
    "    isPrime=True\n",
    "    if n > 1:\n",
    "        for i in range(2, n):\n",
    "            if (n % i) == 0:\n",
    "                isPrime=False\n",
    "                break\n",
    "        if isPrime:\n",
    "            primeSum+=n\n",
    "print('The sum of all prime numbers in the list is: ', primeSum)"
   ]
  },
  {
   "cell_type": "markdown",
   "id": "7bb0451c",
   "metadata": {},
   "source": [
    "#### Q2. Given a list of integers, write a function to check whether the list is strictly increasing or not."
   ]
  },
  {
   "cell_type": "code",
   "execution_count": 3,
   "id": "0b1335ce",
   "metadata": {},
   "outputs": [
    {
     "name": "stdout",
     "output_type": "stream",
     "text": [
      "Enter the numbers separated by space: 1 3 5 7 10 11\n",
      "The list is strictly increasing\n"
     ]
    }
   ],
   "source": [
    "def check(nums):\n",
    "      if len(nums) <= 2:\n",
    "         return True\n",
    "      if len(set(nums)) != len(nums):\n",
    "         return False\n",
    "      ordered = sorted(nums)\n",
    "      return nums == ordered or nums == ordered[::-1]\n",
    "ls = list(input('Enter the numbers separated by space: ').split(' '))\n",
    "ls = [int(i) for i in ls]\n",
    "if check(ls):\n",
    "    print('The list is strictly increasing')\n",
    "else: \n",
    "    print('The list is not strictly increasing')"
   ]
  },
  {
   "cell_type": "markdown",
   "id": "46ea461d",
   "metadata": {},
   "source": [
    "#### Q3. Write a function to check whether a given list is expanding or not (the difference between adjacent elements should keep on increasing)."
   ]
  },
  {
   "cell_type": "code",
   "execution_count": 5,
   "id": "2842aa80",
   "metadata": {},
   "outputs": [
    {
     "name": "stdout",
     "output_type": "stream",
     "text": [
      "Enter the numbers separated by space: 1 3 6 10 15\n",
      "The list is expanding\n"
     ]
    }
   ],
   "source": [
    "def checkExpanding(l):\n",
    " for i in range(0,len(l)-2):\n",
    "  if (abs(l[i+2]-l[i+1])<=abs(l[i+1]-l[i])):\n",
    "   return False\n",
    " return True\n",
    "ls2 = list(input('Enter the numbers separated by space: ').split(' '))\n",
    "ls2 = [int(i) for i in ls2]\n",
    "if checkExpanding(ls2):\n",
    "    print('The list is expanding')\n",
    "else: \n",
    "    print('The list is not expanding')"
   ]
  },
  {
   "cell_type": "markdown",
   "id": "ba4c89cb",
   "metadata": {},
   "source": [
    "##### Q4. Write a function to calculate all permutations of a given string. (Without using itertools)"
   ]
  },
  {
   "cell_type": "code",
   "execution_count": 6,
   "id": "ad794bb0",
   "metadata": {},
   "outputs": [
    {
     "name": "stdout",
     "output_type": "stream",
     "text": [
      "Enter a string to find all its permutations: JKLM\n",
      "All of the permutations of the given string are: \n",
      "JKLM\n",
      "JKML\n",
      "JLKM\n",
      "JLMK\n",
      "JMLK\n",
      "JMKL\n",
      "KJLM\n",
      "KJML\n",
      "KLJM\n",
      "KLMJ\n",
      "KMLJ\n",
      "KMJL\n",
      "LKJM\n",
      "LKMJ\n",
      "LJKM\n",
      "LJMK\n",
      "LMJK\n",
      "LMKJ\n",
      "MKLJ\n",
      "MKJL\n",
      "MLKJ\n",
      "MLJK\n",
      "MJLK\n",
      "MJKL\n"
     ]
    }
   ],
   "source": [
    "def toString(List):\n",
    "    return ''.join(List)\n",
    " \n",
    "def permutation(a, l, r):\n",
    "    if l==r:\n",
    "        print(toString(a))\n",
    "    else:\n",
    "        for i in range(l,r+1):\n",
    "            a[l], a[i] = a[i], a[l]\n",
    "            permutation(a, l+1, r)\n",
    "            a[l], a[i] = a[i], a[l]\n",
    "string = input('Enter a string to find all its permutations: ')\n",
    "n = len(string)\n",
    "a = list(string)\n",
    "print('All of the permutations of the given string are: ')\n",
    "permutation(a, 0, n-1)"
   ]
  },
  {
   "cell_type": "code",
   "execution_count": null,
   "id": "d9e3e4c1",
   "metadata": {},
   "outputs": [],
   "source": []
  }
 ],
 "metadata": {
  "kernelspec": {
   "display_name": "Python 3",
   "language": "python",
   "name": "python3"
  },
  "language_info": {
   "codemirror_mode": {
    "name": "ipython",
    "version": 3
   },
   "file_extension": ".py",
   "mimetype": "text/x-python",
   "name": "python",
   "nbconvert_exporter": "python",
   "pygments_lexer": "ipython3",
   "version": "3.8.8"
  }
 },
 "nbformat": 4,
 "nbformat_minor": 5
}
