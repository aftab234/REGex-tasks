{
 "cells": [
  {
   "cell_type": "markdown",
   "id": "d90a664b",
   "metadata": {},
   "source": [
    "## #Task-3\n",
    "### Name: Aftab Ahmed\n",
    "### Registration ID: SIRSS2310"
   ]
  },
  {
   "cell_type": "markdown",
   "id": "c76aba65",
   "metadata": {},
   "source": [
    "#### Q1. Write a function to return nth term of Fibonacci sequence."
   ]
  },
  {
   "cell_type": "code",
   "execution_count": 1,
   "id": "9fdb8312",
   "metadata": {},
   "outputs": [
    {
     "name": "stdout",
     "output_type": "stream",
     "text": [
      "Enter the value of n for nth term of Fibonacci sequence(F_n): 11\n",
      "89\n"
     ]
    }
   ],
   "source": [
    "def Fibonacci(n):\n",
    "    if n < 0:\n",
    "        print(\"Incorrect input\")\n",
    "    elif n == 0:\n",
    "        return 0\n",
    "    elif n == 1:\n",
    "        return 1\n",
    "    elif n == 2:\n",
    "        return 1\n",
    "    else:\n",
    "        return Fibonacci(n-1)+Fibonacci(n-2)\n",
    "num = int(input(\"Enter the value of n for nth term of Fibonacci sequence(F_n): \"))\n",
    "print(Fibonacci(num))"
   ]
  },
  {
   "cell_type": "markdown",
   "id": "a80c142d",
   "metadata": {},
   "source": [
    "#### Q2. Write a function to find out GCD of two numbers using EUCLID'S algorithm."
   ]
  },
  {
   "cell_type": "code",
   "execution_count": 2,
   "id": "6f3d76bd",
   "metadata": {},
   "outputs": [
    {
     "name": "stdout",
     "output_type": "stream",
     "text": [
      "Enter the first number for calculating GCD: 60\n",
      "Enter the second number for calculating GCD: 45\n"
     ]
    },
    {
     "data": {
      "text/plain": [
       "15"
      ]
     },
     "execution_count": 2,
     "metadata": {},
     "output_type": "execute_result"
    }
   ],
   "source": [
    "def gcd(m,n):\n",
    "    if m< n: \n",
    "        (m,n) = (n,m)\n",
    "    if(m%n) == 0:\n",
    "        return n \n",
    "    else:\n",
    "        return (gcd(n, m % n)) \n",
    "num1 = int(input(\"Enter the first number for calculating GCD: \"))\n",
    "num2 = int(input(\"Enter the second number for calculating GCD: \"))\n",
    "gcd(num1, num2)"
   ]
  },
  {
   "cell_type": "markdown",
   "id": "9f3f0a01",
   "metadata": {},
   "source": [
    "#### Q3. Write a function to find LCM of two number in most optimizers way."
   ]
  },
  {
   "cell_type": "code",
   "execution_count": 3,
   "id": "4484af2f",
   "metadata": {},
   "outputs": [
    {
     "name": "stdout",
     "output_type": "stream",
     "text": [
      "Enter the first number for calculating LCM: 52\n",
      "Enter the second number for calculating LCM: 60\n"
     ]
    },
    {
     "data": {
      "text/plain": [
       "780"
      ]
     },
     "execution_count": 3,
     "metadata": {},
     "output_type": "execute_result"
    }
   ],
   "source": [
    "def gcd(x, y):\n",
    "   while(y):\n",
    "       x, y = y, x % y\n",
    "   return x\n",
    "def lcm(x, y):\n",
    "   lcm = (x*y)//gcd(x,y)\n",
    "   return lcm\n",
    "num1 = int(input(\"Enter the first number for calculating LCM: \"))\n",
    "num2 = int(input(\"Enter the second number for calculating LCM: \"))\n",
    "lcm(num1, num2)"
   ]
  }
 ],
 "metadata": {
  "kernelspec": {
   "display_name": "Python 3",
   "language": "python",
   "name": "python3"
  },
  "language_info": {
   "codemirror_mode": {
    "name": "ipython",
    "version": 3
   },
   "file_extension": ".py",
   "mimetype": "text/x-python",
   "name": "python",
   "nbconvert_exporter": "python",
   "pygments_lexer": "ipython3",
   "version": "3.8.8"
  }
 },
 "nbformat": 4,
 "nbformat_minor": 5
}
