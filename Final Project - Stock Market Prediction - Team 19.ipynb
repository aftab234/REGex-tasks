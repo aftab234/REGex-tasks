{
 "cells": [
  {
   "cell_type": "markdown",
   "metadata": {},
   "source": [
    "### Name: Aftab Ahmed\n",
    "### Registration ID: SIRSS2310\n",
    "### College: College of Engineering and Technology, Bhubaneswar\n",
    "## ***Team Project- Stock Market Prediction***\n",
    "## ***Team 19***"
   ]
  },
  {
   "cell_type": "code",
   "execution_count": 1,
   "metadata": {
    "id": "85iHaC07nml3"
   },
   "outputs": [],
   "source": [
    "import os  \n",
    "import pandas as pd\n",
    "import pandas_datareader as pdr\n",
    "import numpy as np\n",
    "import matplotlib.pyplot as plt\n",
    "import zipfile\n",
    "import tensorflow as tf\n",
    "from tensorflow.keras.optimizers import RMSprop\n",
    "from tensorflow.keras.preprocessing.image import ImageDataGenerator\n",
    "from tensorflow.keras import datasets,layers,models,Model"
   ]
  },
  {
   "cell_type": "code",
   "execution_count": 2,
   "metadata": {
    "id": "FJNMq73BvzMR"
   },
   "outputs": [],
   "source": [
    "path=\"MSFT.csv\"\n",
    "df=pd.read_csv(path)"
   ]
  },
  {
   "cell_type": "code",
   "execution_count": 3,
   "metadata": {
    "colab": {
     "base_uri": "https://localhost:8080/",
     "height": 204
    },
    "id": "PM3UkJ6Dwr2Q",
    "outputId": "eb164830-3d7a-42b6-9fe6-98573bf468f6"
   },
   "outputs": [
    {
     "data": {
      "text/html": [
       "<div>\n",
       "<style scoped>\n",
       "    .dataframe tbody tr th:only-of-type {\n",
       "        vertical-align: middle;\n",
       "    }\n",
       "\n",
       "    .dataframe tbody tr th {\n",
       "        vertical-align: top;\n",
       "    }\n",
       "\n",
       "    .dataframe thead th {\n",
       "        text-align: right;\n",
       "    }\n",
       "</style>\n",
       "<table border=\"1\" class=\"dataframe\">\n",
       "  <thead>\n",
       "    <tr style=\"text-align: right;\">\n",
       "      <th></th>\n",
       "      <th>Date</th>\n",
       "      <th>Open</th>\n",
       "      <th>High</th>\n",
       "      <th>Low</th>\n",
       "      <th>Close</th>\n",
       "      <th>Adj Close</th>\n",
       "      <th>Volume</th>\n",
       "    </tr>\n",
       "  </thead>\n",
       "  <tbody>\n",
       "    <tr>\n",
       "      <th>0</th>\n",
       "      <td>1986-03-13</td>\n",
       "      <td>0.088542</td>\n",
       "      <td>0.101563</td>\n",
       "      <td>0.088542</td>\n",
       "      <td>0.097222</td>\n",
       "      <td>0.061751</td>\n",
       "      <td>1031788800</td>\n",
       "    </tr>\n",
       "    <tr>\n",
       "      <th>1</th>\n",
       "      <td>1986-03-14</td>\n",
       "      <td>0.097222</td>\n",
       "      <td>0.102431</td>\n",
       "      <td>0.097222</td>\n",
       "      <td>0.100694</td>\n",
       "      <td>0.063956</td>\n",
       "      <td>308160000</td>\n",
       "    </tr>\n",
       "    <tr>\n",
       "      <th>2</th>\n",
       "      <td>1986-03-17</td>\n",
       "      <td>0.100694</td>\n",
       "      <td>0.103299</td>\n",
       "      <td>0.100694</td>\n",
       "      <td>0.102431</td>\n",
       "      <td>0.065059</td>\n",
       "      <td>133171200</td>\n",
       "    </tr>\n",
       "    <tr>\n",
       "      <th>3</th>\n",
       "      <td>1986-03-18</td>\n",
       "      <td>0.102431</td>\n",
       "      <td>0.103299</td>\n",
       "      <td>0.098958</td>\n",
       "      <td>0.099826</td>\n",
       "      <td>0.063405</td>\n",
       "      <td>67766400</td>\n",
       "    </tr>\n",
       "    <tr>\n",
       "      <th>4</th>\n",
       "      <td>1986-03-19</td>\n",
       "      <td>0.099826</td>\n",
       "      <td>0.100694</td>\n",
       "      <td>0.097222</td>\n",
       "      <td>0.098090</td>\n",
       "      <td>0.062302</td>\n",
       "      <td>47894400</td>\n",
       "    </tr>\n",
       "  </tbody>\n",
       "</table>\n",
       "</div>"
      ],
      "text/plain": [
       "         Date      Open      High       Low     Close  Adj Close      Volume\n",
       "0  1986-03-13  0.088542  0.101563  0.088542  0.097222   0.061751  1031788800\n",
       "1  1986-03-14  0.097222  0.102431  0.097222  0.100694   0.063956   308160000\n",
       "2  1986-03-17  0.100694  0.103299  0.100694  0.102431   0.065059   133171200\n",
       "3  1986-03-18  0.102431  0.103299  0.098958  0.099826   0.063405    67766400\n",
       "4  1986-03-19  0.099826  0.100694  0.097222  0.098090   0.062302    47894400"
      ]
     },
     "execution_count": 3,
     "metadata": {},
     "output_type": "execute_result"
    }
   ],
   "source": [
    "df.head()"
   ]
  },
  {
   "cell_type": "code",
   "execution_count": 4,
   "metadata": {
    "colab": {
     "base_uri": "https://localhost:8080/",
     "height": 204
    },
    "id": "GjZ3YrRgxYo5",
    "outputId": "efa1dbe4-3b91-42f8-bf2f-abe0ccb13e55"
   },
   "outputs": [
    {
     "data": {
      "text/html": [
       "<div>\n",
       "<style scoped>\n",
       "    .dataframe tbody tr th:only-of-type {\n",
       "        vertical-align: middle;\n",
       "    }\n",
       "\n",
       "    .dataframe tbody tr th {\n",
       "        vertical-align: top;\n",
       "    }\n",
       "\n",
       "    .dataframe thead th {\n",
       "        text-align: right;\n",
       "    }\n",
       "</style>\n",
       "<table border=\"1\" class=\"dataframe\">\n",
       "  <thead>\n",
       "    <tr style=\"text-align: right;\">\n",
       "      <th></th>\n",
       "      <th>Date</th>\n",
       "      <th>Open</th>\n",
       "      <th>High</th>\n",
       "      <th>Low</th>\n",
       "      <th>Close</th>\n",
       "      <th>Adj Close</th>\n",
       "      <th>Volume</th>\n",
       "    </tr>\n",
       "  </thead>\n",
       "  <tbody>\n",
       "    <tr>\n",
       "      <th>8852</th>\n",
       "      <td>2021-04-27</td>\n",
       "      <td>261.579987</td>\n",
       "      <td>263.190002</td>\n",
       "      <td>260.119995</td>\n",
       "      <td>261.970001</td>\n",
       "      <td>261.970001</td>\n",
       "      <td>31014200</td>\n",
       "    </tr>\n",
       "    <tr>\n",
       "      <th>8853</th>\n",
       "      <td>2021-04-28</td>\n",
       "      <td>256.079987</td>\n",
       "      <td>256.540009</td>\n",
       "      <td>252.949997</td>\n",
       "      <td>254.559998</td>\n",
       "      <td>254.559998</td>\n",
       "      <td>46903100</td>\n",
       "    </tr>\n",
       "    <tr>\n",
       "      <th>8854</th>\n",
       "      <td>2021-04-29</td>\n",
       "      <td>255.460007</td>\n",
       "      <td>256.100006</td>\n",
       "      <td>249.000000</td>\n",
       "      <td>252.509995</td>\n",
       "      <td>252.509995</td>\n",
       "      <td>40589000</td>\n",
       "    </tr>\n",
       "    <tr>\n",
       "      <th>8855</th>\n",
       "      <td>2021-04-30</td>\n",
       "      <td>249.740005</td>\n",
       "      <td>253.080002</td>\n",
       "      <td>249.600006</td>\n",
       "      <td>252.179993</td>\n",
       "      <td>252.179993</td>\n",
       "      <td>30929200</td>\n",
       "    </tr>\n",
       "    <tr>\n",
       "      <th>8856</th>\n",
       "      <td>2021-05-03</td>\n",
       "      <td>253.399994</td>\n",
       "      <td>254.350006</td>\n",
       "      <td>251.119995</td>\n",
       "      <td>251.860001</td>\n",
       "      <td>251.860001</td>\n",
       "      <td>19598900</td>\n",
       "    </tr>\n",
       "  </tbody>\n",
       "</table>\n",
       "</div>"
      ],
      "text/plain": [
       "            Date        Open        High         Low       Close   Adj Close  \\\n",
       "8852  2021-04-27  261.579987  263.190002  260.119995  261.970001  261.970001   \n",
       "8853  2021-04-28  256.079987  256.540009  252.949997  254.559998  254.559998   \n",
       "8854  2021-04-29  255.460007  256.100006  249.000000  252.509995  252.509995   \n",
       "8855  2021-04-30  249.740005  253.080002  249.600006  252.179993  252.179993   \n",
       "8856  2021-05-03  253.399994  254.350006  251.119995  251.860001  251.860001   \n",
       "\n",
       "        Volume  \n",
       "8852  31014200  \n",
       "8853  46903100  \n",
       "8854  40589000  \n",
       "8855  30929200  \n",
       "8856  19598900  "
      ]
     },
     "execution_count": 4,
     "metadata": {},
     "output_type": "execute_result"
    }
   ],
   "source": [
    "\n",
    "df.tail()"
   ]
  },
  {
   "cell_type": "code",
   "execution_count": 5,
   "metadata": {
    "id": "Y93o5t-Bx080"
   },
   "outputs": [],
   "source": [
    "df1=df.reset_index()['Close']"
   ]
  },
  {
   "cell_type": "code",
   "execution_count": 6,
   "metadata": {
    "colab": {
     "base_uri": "https://localhost:8080/"
    },
    "id": "u7t4e0WtnPpF",
    "outputId": "df760705-bf71-4ab8-ef84-e8ba93c15114"
   },
   "outputs": [
    {
     "data": {
      "text/plain": [
       "0         0.097222\n",
       "1         0.100694\n",
       "2         0.102431\n",
       "3         0.099826\n",
       "4         0.098090\n",
       "           ...    \n",
       "8852    261.970001\n",
       "8853    254.559998\n",
       "8854    252.509995\n",
       "8855    252.179993\n",
       "8856    251.860001\n",
       "Name: Close, Length: 8857, dtype: float64"
      ]
     },
     "execution_count": 6,
     "metadata": {},
     "output_type": "execute_result"
    }
   ],
   "source": [
    "df1\n"
   ]
  },
  {
   "cell_type": "code",
   "execution_count": 7,
   "metadata": {
    "colab": {
     "base_uri": "https://localhost:8080/",
     "height": 282
    },
    "id": "eFct_35mnnlo",
    "outputId": "2bbdc14f-da5c-4565-d7c2-eb7dda8d6199"
   },
   "outputs": [
    {
     "data": {
      "text/plain": [
       "[<matplotlib.lines.Line2D at 0x20e68f297c0>]"
      ]
     },
     "execution_count": 7,
     "metadata": {},
     "output_type": "execute_result"
    },
    {
     "data": {
      "image/png": "[encoded data removed]",
      "text/plain": [
       "<Figure size 432x288 with 1 Axes>"
      ]
     },
     "metadata": {
      "needs_background": "light"
     },
     "output_type": "display_data"
    }
   ],
   "source": [
    "import matplotlib.pyplot as plt\n",
    "plt.plot(df1)"
   ]
  },
  {
   "cell_type": "markdown",
   "metadata": {
    "id": "VmYCIKxRnvl4"
   },
   "source": [
    "### LSTM are sensitive to the scale of the data. so we apply MinMax scaler"
   ]
  },
  {
   "cell_type": "code",
   "execution_count": 8,
   "metadata": {
    "colab": {
     "base_uri": "https://localhost:8080/"
    },
    "id": "oB_cyDTXnyqV",
    "outputId": "0dec01d5-3059-4976-f50d-2812058484d9"
   },
   "outputs": [
    {
     "data": {
      "text/plain": [
       "0         0.097222\n",
       "1         0.100694\n",
       "2         0.102431\n",
       "3         0.099826\n",
       "4         0.098090\n",
       "           ...    \n",
       "8852    261.970001\n",
       "8853    254.559998\n",
       "8854    252.509995\n",
       "8855    252.179993\n",
       "8856    251.860001\n",
       "Name: Close, Length: 8857, dtype: float64"
      ]
     },
     "execution_count": 8,
     "metadata": {},
     "output_type": "execute_result"
    }
   ],
   "source": [
    "df1"
   ]
  },
  {
   "cell_type": "code",
   "execution_count": 9,
   "metadata": {
    "id": "7Wle39trn5bD"
   },
   "outputs": [],
   "source": [
    "from sklearn.preprocessing import MinMaxScaler\n",
    "scaler=MinMaxScaler(feature_range=(0,1))\n",
    "df1=scaler.fit_transform(np.array(df1).reshape(-1,1))"
   ]
  },
  {
   "cell_type": "code",
   "execution_count": 10,
   "metadata": {
    "colab": {
     "base_uri": "https://localhost:8080/"
    },
    "id": "Nc6UlKHtn8iR",
    "outputId": "32d3659a-f49a-4193-dc18-18cf65993e29"
   },
   "outputs": [
    {
     "name": "stdout",
     "output_type": "stream",
     "text": [
      "[[2.65159923e-05]\n",
      " [3.97739884e-05]\n",
      " [4.64067989e-05]\n",
      " ...\n",
      " [9.63876521e-01]\n",
      " [9.62616393e-01]\n",
      " [9.61394489e-01]]\n"
     ]
    }
   ],
   "source": [
    "print(df1)"
   ]
  },
  {
   "cell_type": "code",
   "execution_count": 11,
   "metadata": {
    "id": "lT1Gg-wrn_UV"
   },
   "outputs": [],
   "source": [
    "##splitting dataset into train and test split\n",
    "training_size=int(len(df1)*0.65)\n",
    "test_size=len(df1)-training_size\n",
    "train_data,test_data=df1[0:training_size,:],df1[training_size:len(df1),:1]"
   ]
  },
  {
   "cell_type": "code",
   "execution_count": 12,
   "metadata": {
    "colab": {
     "base_uri": "https://localhost:8080/"
    },
    "id": "mM9wNErWoCWm",
    "outputId": "c8a2f375-c1a1-4206-b56a-18dcd26aa907"
   },
   "outputs": [
    {
     "data": {
      "text/plain": [
       "(5757, 3100)"
      ]
     },
     "execution_count": 12,
     "metadata": {},
     "output_type": "execute_result"
    }
   ],
   "source": [
    "training_size,test_size"
   ]
  },
  {
   "cell_type": "code",
   "execution_count": 13,
   "metadata": {
    "colab": {
     "base_uri": "https://localhost:8080/"
    },
    "id": "YUDQqP91oFk5",
    "outputId": "d07e87db-1d76-4b9c-81ae-58d009489153"
   },
   "outputs": [
    {
     "data": {
      "text/plain": [
       "array([[2.65159923e-05],\n",
       "       [3.97739884e-05],\n",
       "       [4.64067989e-05],\n",
       "       ...,\n",
       "       [7.80118529e-02],\n",
       "       [7.89283033e-02],\n",
       "       [7.41551197e-02]])"
      ]
     },
     "execution_count": 13,
     "metadata": {},
     "output_type": "execute_result"
    }
   ],
   "source": [
    "train_data"
   ]
  },
  {
   "cell_type": "code",
   "execution_count": 14,
   "metadata": {
    "id": "f8NEy9y4oIHi"
   },
   "outputs": [],
   "source": [
    "import numpy\n",
    "# convert an array of values into a dataset matrix\n",
    "def create_dataset(dataset, time_step=1):\n",
    "\tdataX, dataY = [], []\n",
    "\tfor i in range(len(dataset)-time_step-1):\n",
    "\t\ta = dataset[i:(i+time_step), 0]   ###i=0, 0,1,2,3-----99   100 \n",
    "\t\tdataX.append(a)\n",
    "\t\tdataY.append(dataset[i + time_step, 0])\n",
    "\treturn numpy.array(dataX), numpy.array(dataY)"
   ]
  },
  {
   "cell_type": "code",
   "execution_count": 15,
   "metadata": {
    "id": "65x2GZxioQDR"
   },
   "outputs": [],
   "source": [
    "# reshape into X=t,t+1,t+2,t+3 and Y=t+4\n",
    "time_step = 100\n",
    "X_train, y_train = create_dataset(train_data, time_step)\n",
    "X_test, ytest = create_dataset(test_data, time_step)"
   ]
  },
  {
   "cell_type": "code",
   "execution_count": 16,
   "metadata": {
    "colab": {
     "base_uri": "https://localhost:8080/"
    },
    "id": "hkvG5yIDoS1B",
    "outputId": "3f8436fb-2270-4ea2-ab77-6bb5605b3f93"
   },
   "outputs": [
    {
     "name": "stdout",
     "output_type": "stream",
     "text": [
      "(5656, 100)\n",
      "(5656,)\n"
     ]
    },
    {
     "data": {
      "text/plain": [
       "(None, None)"
      ]
     },
     "execution_count": 16,
     "metadata": {},
     "output_type": "execute_result"
    }
   ],
   "source": [
    "\n",
    "print(X_train.shape), print(y_train.shape)"
   ]
  },
  {
   "cell_type": "code",
   "execution_count": 17,
   "metadata": {
    "colab": {
     "base_uri": "https://localhost:8080/"
    },
    "id": "-33z82jEoVa5",
    "outputId": "f50eeaaf-01fc-4ea6-ecb6-9974b0d7f228"
   },
   "outputs": [
    {
     "name": "stdout",
     "output_type": "stream",
     "text": [
      "(2999, 100)\n",
      "(2999,)\n"
     ]
    },
    {
     "data": {
      "text/plain": [
       "(None, None)"
      ]
     },
     "execution_count": 17,
     "metadata": {},
     "output_type": "execute_result"
    }
   ],
   "source": [
    "print(X_test.shape), print(ytest.shape)"
   ]
  },
  {
   "cell_type": "code",
   "execution_count": 18,
   "metadata": {
    "id": "zYC1cG_uoZH-"
   },
   "outputs": [],
   "source": [
    "# reshape input to be [samples, time steps, features] which is required for LSTM\n",
    "X_train =X_train.reshape(X_train.shape[0],X_train.shape[1] , 1)\n",
    "X_test = X_test.reshape(X_test.shape[0],X_test.shape[1] , 1)"
   ]
  },
  {
   "cell_type": "code",
   "execution_count": 19,
   "metadata": {
    "id": "ryn5zrhdocRh"
   },
   "outputs": [],
   "source": [
    "### Create the Stacked LSTM model\n",
    "from tensorflow.keras.models import Sequential\n",
    "from tensorflow.keras.layers import Dense\n",
    "from tensorflow.keras.layers import LSTM"
   ]
  },
  {
   "cell_type": "code",
   "execution_count": 20,
   "metadata": {
    "id": "BbotkiXiogTH"
   },
   "outputs": [],
   "source": [
    "model=Sequential()\n",
    "model.add(LSTM(50,return_sequences=True,input_shape=(100,1)))\n",
    "model.add(LSTM(50,return_sequences=True))\n",
    "model.add(LSTM(50))\n",
    "model.add(Dense(1))\n",
    "model.compile(loss='mean_squared_error',optimizer='adam')"
   ]
  },
  {
   "cell_type": "code",
   "execution_count": 21,
   "metadata": {
    "colab": {
     "base_uri": "https://localhost:8080/"
    },
    "id": "zeemBUheoizp",
    "outputId": "829306a8-1026-4aa9-cf8b-d520cf2777bb"
   },
   "outputs": [
    {
     "name": "stdout",
     "output_type": "stream",
     "text": [
      "Model: \"sequential\"\n",
      "_________________________________________________________________\n",
      "Layer (type)                 Output Shape              Param #   \n",
      "=================================================================\n",
      "lstm (LSTM)                  (None, 100, 50)           10400     \n",
      "_________________________________________________________________\n",
      "lstm_1 (LSTM)                (None, 100, 50)           20200     \n",
      "_________________________________________________________________\n",
      "lstm_2 (LSTM)                (None, 50)                20200     \n",
      "_________________________________________________________________\n",
      "dense (Dense)                (None, 1)                 51        \n",
      "=================================================================\n",
      "Total params: 50,851\n",
      "Trainable params: 50,851\n",
      "Non-trainable params: 0\n",
      "_________________________________________________________________\n"
     ]
    }
   ],
   "source": [
    "model.summary()"
   ]
  },
  {
   "cell_type": "code",
   "execution_count": 22,
   "metadata": {
    "colab": {
     "base_uri": "https://localhost:8080/"
    },
    "id": "sH72FRFzolzy",
    "outputId": "6eb2da67-9017-40c8-b8fb-b89492a0984c"
   },
   "outputs": [
    {
     "name": "stdout",
     "output_type": "stream",
     "text": [
      "('You must install pydot (`pip install pydot`) and install graphviz (see instructions at https://graphviz.gitlab.io/download/) ', 'for plot_model/model_to_dot to work.')\n"
     ]
    }
   ],
   "source": [
    "from keras.utils.vis_utils import plot_model\n",
    "plot_model(model, to_file='model.png', show_shapes=True)"
   ]
  },
  {
   "cell_type": "code",
   "execution_count": 23,
   "metadata": {
    "colab": {
     "base_uri": "https://localhost:8080/"
    },
    "id": "kWOZ9ooAosWF",
    "outputId": "b911c305-c627-4c0a-d411-92ec552e1b86",
    "scrolled": false
   },
   "outputs": [
    {
     "name": "stdout",
     "output_type": "stream",
     "text": [
      "Epoch 1/100\n",
      "89/89 [==============================] - 7s 27ms/step - loss: 3.9287e-04 - val_loss: 8.5699e-04\n",
      "Epoch 2/100\n",
      "89/89 [==============================] - 2s 19ms/step - loss: 3.1468e-05 - val_loss: 0.0015\n",
      "Epoch 3/100\n",
      "89/89 [==============================] - 2s 19ms/step - loss: 2.9512e-05 - val_loss: 0.0023\n",
      "Epoch 4/100\n",
      "89/89 [==============================] - 2s 19ms/step - loss: 2.7099e-05 - val_loss: 0.0017\n",
      "Epoch 5/100\n",
      "89/89 [==============================] - 2s 19ms/step - loss: 2.5282e-05 - val_loss: 0.0020\n",
      "Epoch 6/100\n",
      "89/89 [==============================] - 2s 19ms/step - loss: 2.4127e-05 - val_loss: 0.0019\n",
      "Epoch 7/100\n",
      "89/89 [==============================] - 2s 19ms/step - loss: 2.1439e-05 - val_loss: 0.0027\n",
      "Epoch 8/100\n",
      "89/89 [==============================] - 2s 19ms/step - loss: 2.2876e-05 - val_loss: 0.0026\n",
      "Epoch 9/100\n",
      "89/89 [==============================] - 2s 19ms/step - loss: 2.1849e-05 - val_loss: 0.0016\n",
      "Epoch 10/100\n",
      "89/89 [==============================] - 2s 19ms/step - loss: 1.7527e-05 - val_loss: 0.0016\n",
      "Epoch 11/100\n",
      "89/89 [==============================] - 2s 19ms/step - loss: 1.5113e-05 - val_loss: 0.0014\n",
      "Epoch 12/100\n",
      "89/89 [==============================] - 2s 19ms/step - loss: 1.6394e-05 - val_loss: 0.0012\n",
      "Epoch 13/100\n",
      "89/89 [==============================] - 2s 19ms/step - loss: 1.8381e-05 - val_loss: 0.0013\n",
      "Epoch 14/100\n",
      "89/89 [==============================] - 2s 19ms/step - loss: 1.5038e-05 - val_loss: 0.0013\n",
      "Epoch 15/100\n",
      "89/89 [==============================] - 2s 19ms/step - loss: 1.4877e-05 - val_loss: 0.0012\n",
      "Epoch 16/100\n",
      "89/89 [==============================] - 2s 19ms/step - loss: 1.4352e-05 - val_loss: 0.0011\n",
      "Epoch 17/100\n",
      "89/89 [==============================] - 2s 19ms/step - loss: 1.6158e-05 - val_loss: 0.0012\n",
      "Epoch 18/100\n",
      "89/89 [==============================] - 2s 19ms/step - loss: 1.3867e-05 - val_loss: 6.1184e-04\n",
      "Epoch 19/100\n",
      "89/89 [==============================] - 2s 19ms/step - loss: 1.4381e-05 - val_loss: 0.0011\n",
      "Epoch 20/100\n",
      "89/89 [==============================] - 2s 19ms/step - loss: 1.2815e-05 - val_loss: 0.0014\n",
      "Epoch 21/100\n",
      "89/89 [==============================] - 2s 19ms/step - loss: 1.3568e-05 - val_loss: 8.6797e-04\n",
      "Epoch 22/100\n",
      "89/89 [==============================] - 2s 19ms/step - loss: 1.1230e-05 - val_loss: 5.4410e-04\n",
      "Epoch 23/100\n",
      "89/89 [==============================] - 2s 19ms/step - loss: 1.1494e-05 - val_loss: 0.0011\n",
      "Epoch 24/100\n",
      "89/89 [==============================] - 2s 19ms/step - loss: 1.2140e-05 - val_loss: 9.5673e-04\n",
      "Epoch 25/100\n",
      "89/89 [==============================] - 2s 19ms/step - loss: 1.1148e-05 - val_loss: 0.0011\n",
      "Epoch 26/100\n",
      "89/89 [==============================] - 2s 20ms/step - loss: 1.2350e-05 - val_loss: 0.0011\n",
      "Epoch 27/100\n",
      "89/89 [==============================] - 2s 19ms/step - loss: 1.1130e-05 - val_loss: 4.8310e-04\n",
      "Epoch 28/100\n",
      "89/89 [==============================] - 2s 19ms/step - loss: 9.9487e-06 - val_loss: 5.1568e-04\n",
      "Epoch 29/100\n",
      "89/89 [==============================] - 2s 19ms/step - loss: 1.0773e-05 - val_loss: 6.2506e-04\n",
      "Epoch 30/100\n",
      "89/89 [==============================] - 2s 19ms/step - loss: 1.0238e-05 - val_loss: 4.6722e-04\n",
      "Epoch 31/100\n",
      "89/89 [==============================] - 2s 19ms/step - loss: 9.2540e-06 - val_loss: 3.6130e-04\n",
      "Epoch 32/100\n",
      "89/89 [==============================] - 2s 19ms/step - loss: 9.8483e-06 - val_loss: 5.0199e-04\n",
      "Epoch 33/100\n",
      "89/89 [==============================] - 2s 20ms/step - loss: 8.8827e-06 - val_loss: 4.8681e-04\n",
      "Epoch 34/100\n",
      "89/89 [==============================] - 2s 19ms/step - loss: 8.9901e-06 - val_loss: 4.6087e-04\n",
      "Epoch 35/100\n",
      "89/89 [==============================] - 2s 19ms/step - loss: 9.2896e-06 - val_loss: 5.4843e-04\n",
      "Epoch 36/100\n",
      "89/89 [==============================] - 2s 19ms/step - loss: 8.0987e-06 - val_loss: 5.2315e-04\n",
      "Epoch 37/100\n",
      "89/89 [==============================] - 2s 19ms/step - loss: 7.9907e-06 - val_loss: 2.4620e-04\n",
      "Epoch 38/100\n",
      "89/89 [==============================] - 2s 19ms/step - loss: 7.9234e-06 - val_loss: 3.9326e-04\n",
      "Epoch 39/100\n",
      "89/89 [==============================] - 2s 19ms/step - loss: 6.7834e-06 - val_loss: 2.8650e-04\n",
      "Epoch 40/100\n",
      "89/89 [==============================] - 2s 19ms/step - loss: 8.3488e-06 - val_loss: 1.5509e-04\n",
      "Epoch 41/100\n",
      "89/89 [==============================] - 2s 19ms/step - loss: 7.3569e-06 - val_loss: 2.9169e-04\n",
      "Epoch 42/100\n",
      "89/89 [==============================] - 2s 19ms/step - loss: 6.7634e-06 - val_loss: 2.1037e-04\n",
      "Epoch 43/100\n",
      "89/89 [==============================] - 2s 19ms/step - loss: 7.5724e-06 - val_loss: 1.5066e-04\n",
      "Epoch 44/100\n",
      "89/89 [==============================] - 2s 20ms/step - loss: 6.7377e-06 - val_loss: 3.8233e-04\n",
      "Epoch 45/100\n",
      "89/89 [==============================] - 2s 21ms/step - loss: 6.4723e-06 - val_loss: 3.0057e-04\n",
      "Epoch 46/100\n",
      "89/89 [==============================] - 2s 19ms/step - loss: 6.7196e-06 - val_loss: 2.2706e-04\n",
      "Epoch 47/100\n",
      "89/89 [==============================] - 2s 19ms/step - loss: 7.4468e-06 - val_loss: 1.9609e-04\n",
      "Epoch 48/100\n",
      "89/89 [==============================] - 2s 20ms/step - loss: 5.7783e-06 - val_loss: 2.8256e-04\n",
      "Epoch 49/100\n",
      "89/89 [==============================] - 2s 23ms/step - loss: 6.2561e-06 - val_loss: 2.6987e-04\n",
      "Epoch 50/100\n",
      "89/89 [==============================] - 2s 27ms/step - loss: 6.7371e-06 - val_loss: 2.0662e-04\n",
      "Epoch 51/100\n",
      "89/89 [==============================] - 2s 23ms/step - loss: 5.5163e-06 - val_loss: 4.9813e-04\n",
      "Epoch 52/100\n",
      "89/89 [==============================] - 2s 20ms/step - loss: 6.5575e-06 - val_loss: 2.3247e-04\n",
      "Epoch 53/100\n",
      "89/89 [==============================] - 2s 20ms/step - loss: 4.8988e-06 - val_loss: 2.6795e-04\n",
      "Epoch 54/100\n",
      "89/89 [==============================] - 2s 19ms/step - loss: 5.3783e-06 - val_loss: 2.0933e-04\n",
      "Epoch 55/100\n",
      "89/89 [==============================] - 2s 19ms/step - loss: 5.5201e-06 - val_loss: 1.8858e-04\n",
      "Epoch 56/100\n",
      "89/89 [==============================] - 2s 21ms/step - loss: 5.8846e-06 - val_loss: 4.4075e-04\n",
      "Epoch 57/100\n",
      "89/89 [==============================] - 2s 19ms/step - loss: 5.1790e-06 - val_loss: 1.6930e-04\n",
      "Epoch 58/100\n",
      "89/89 [==============================] - 2s 19ms/step - loss: 5.4571e-06 - val_loss: 4.5950e-04\n",
      "Epoch 59/100\n",
      "89/89 [==============================] - 2s 20ms/step - loss: 5.3703e-06 - val_loss: 3.7825e-04\n",
      "Epoch 60/100\n",
      "89/89 [==============================] - 2s 21ms/step - loss: 4.9040e-06 - val_loss: 3.4758e-04\n",
      "Epoch 61/100\n",
      "89/89 [==============================] - 2s 20ms/step - loss: 5.3794e-06 - val_loss: 2.3942e-04\n",
      "Epoch 62/100\n",
      "89/89 [==============================] - 2s 19ms/step - loss: 4.7146e-06 - val_loss: 2.8690e-04\n",
      "Epoch 63/100\n",
      "89/89 [==============================] - 2s 19ms/step - loss: 5.3507e-06 - val_loss: 2.7501e-04\n",
      "Epoch 64/100\n",
      "89/89 [==============================] - 2s 19ms/step - loss: 5.4796e-06 - val_loss: 1.9537e-04\n",
      "Epoch 65/100\n",
      "89/89 [==============================] - 2s 20ms/step - loss: 5.6501e-06 - val_loss: 1.7561e-04\n",
      "Epoch 66/100\n",
      "89/89 [==============================] - 2s 20ms/step - loss: 5.0933e-06 - val_loss: 1.8026e-04\n",
      "Epoch 67/100\n",
      "89/89 [==============================] - 2s 19ms/step - loss: 4.5779e-06 - val_loss: 4.5619e-04\n",
      "Epoch 68/100\n",
      "89/89 [==============================] - 2s 19ms/step - loss: 5.1135e-06 - val_loss: 1.8718e-04\n",
      "Epoch 69/100\n",
      "89/89 [==============================] - 2s 22ms/step - loss: 4.7258e-06 - val_loss: 3.0497e-04\n",
      "Epoch 70/100\n",
      "89/89 [==============================] - 2s 20ms/step - loss: 4.9419e-06 - val_loss: 2.6353e-04\n",
      "Epoch 71/100\n",
      "89/89 [==============================] - 2s 20ms/step - loss: 5.1846e-06 - val_loss: 2.3200e-04\n",
      "Epoch 72/100\n",
      "89/89 [==============================] - 2s 24ms/step - loss: 4.3425e-06 - val_loss: 2.3026e-04\n",
      "Epoch 73/100\n",
      "89/89 [==============================] - 2s 23ms/step - loss: 4.2642e-06 - val_loss: 2.6247e-04\n",
      "Epoch 74/100\n",
      "89/89 [==============================] - 2s 23ms/step - loss: 5.8412e-06 - val_loss: 2.9834e-04\n",
      "Epoch 75/100\n",
      "89/89 [==============================] - 2s 23ms/step - loss: 6.1075e-06 - val_loss: 3.1870e-04\n",
      "Epoch 76/100\n",
      "89/89 [==============================] - 2s 22ms/step - loss: 5.0102e-06 - val_loss: 3.4309e-04\n",
      "Epoch 77/100\n"
     ]
    },
    {
     "name": "stdout",
     "output_type": "stream",
     "text": [
      "89/89 [==============================] - 2s 20ms/step - loss: 4.7274e-06 - val_loss: 2.5707e-04\n",
      "Epoch 78/100\n",
      "89/89 [==============================] - 2s 19ms/step - loss: 4.7966e-06 - val_loss: 6.2758e-04\n",
      "Epoch 79/100\n",
      "89/89 [==============================] - 2s 20ms/step - loss: 5.4899e-06 - val_loss: 2.8402e-04\n",
      "Epoch 80/100\n",
      "89/89 [==============================] - 2s 20ms/step - loss: 4.3386e-06 - val_loss: 4.4869e-04\n",
      "Epoch 81/100\n",
      "89/89 [==============================] - 2s 20ms/step - loss: 4.4743e-06 - val_loss: 3.7242e-04\n",
      "Epoch 82/100\n",
      "89/89 [==============================] - 2s 19ms/step - loss: 5.3157e-06 - val_loss: 1.2485e-04\n",
      "Epoch 83/100\n",
      "89/89 [==============================] - 2s 20ms/step - loss: 4.8020e-06 - val_loss: 1.7539e-04\n",
      "Epoch 84/100\n",
      "89/89 [==============================] - 2s 20ms/step - loss: 5.1443e-06 - val_loss: 4.0213e-04\n",
      "Epoch 85/100\n",
      "89/89 [==============================] - 2s 20ms/step - loss: 5.6048e-06 - val_loss: 3.5925e-04\n",
      "Epoch 86/100\n",
      "89/89 [==============================] - 2s 20ms/step - loss: 4.5943e-06 - val_loss: 2.2685e-04\n",
      "Epoch 87/100\n",
      "89/89 [==============================] - 2s 23ms/step - loss: 5.1205e-06 - val_loss: 6.1894e-04\n",
      "Epoch 88/100\n",
      "89/89 [==============================] - 2s 20ms/step - loss: 5.6145e-06 - val_loss: 2.3077e-04\n",
      "Epoch 89/100\n",
      "89/89 [==============================] - 2s 22ms/step - loss: 5.8168e-06 - val_loss: 3.0074e-04\n",
      "Epoch 90/100\n",
      "89/89 [==============================] - 2s 19ms/step - loss: 4.7178e-06 - val_loss: 2.3085e-04\n",
      "Epoch 91/100\n",
      "89/89 [==============================] - 2s 22ms/step - loss: 4.5105e-06 - val_loss: 3.9814e-04\n",
      "Epoch 92/100\n",
      "89/89 [==============================] - 2s 20ms/step - loss: 4.3765e-06 - val_loss: 4.6077e-04\n",
      "Epoch 93/100\n",
      "89/89 [==============================] - 2s 21ms/step - loss: 5.2229e-06 - val_loss: 5.7553e-04\n",
      "Epoch 94/100\n",
      "89/89 [==============================] - 2s 20ms/step - loss: 4.3579e-06 - val_loss: 3.6326e-04\n",
      "Epoch 95/100\n",
      "89/89 [==============================] - 2s 20ms/step - loss: 4.8903e-06 - val_loss: 3.1557e-04\n",
      "Epoch 96/100\n",
      "89/89 [==============================] - 2s 19ms/step - loss: 4.8923e-06 - val_loss: 4.0094e-04\n",
      "Epoch 97/100\n",
      "89/89 [==============================] - 2s 19ms/step - loss: 5.3884e-06 - val_loss: 2.7810e-04\n",
      "Epoch 98/100\n",
      "89/89 [==============================] - 2s 20ms/step - loss: 5.1921e-06 - val_loss: 5.3464e-04\n",
      "Epoch 99/100\n",
      "89/89 [==============================] - 2s 19ms/step - loss: 4.6443e-06 - val_loss: 4.0703e-04\n",
      "Epoch 100/100\n",
      "89/89 [==============================] - 2s 20ms/step - loss: 4.6829e-06 - val_loss: 3.3471e-04\n"
     ]
    },
    {
     "data": {
      "text/plain": [
       "<keras.callbacks.History at 0x20e0e560550>"
      ]
     },
     "execution_count": 23,
     "metadata": {},
     "output_type": "execute_result"
    }
   ],
   "source": [
    "model.fit(X_train,y_train,validation_data=(X_test,ytest),epochs=100,batch_size=64,verbose=1)"
   ]
  },
  {
   "cell_type": "code",
   "execution_count": 24,
   "metadata": {
    "id": "8u4h3ybNozVl"
   },
   "outputs": [],
   "source": [
    "### Lets Do the prediction and check performance metrics\n",
    "train_predict=model.predict(X_train)\n",
    "test_predict=model.predict(X_test)"
   ]
  },
  {
   "cell_type": "code",
   "execution_count": 25,
   "metadata": {
    "id": "ytY-_Fb3v1-8"
   },
   "outputs": [],
   "source": [
    "##Transformback to original form\n",
    "train_predict=scaler.inverse_transform(train_predict)\n",
    "test_predict=scaler.inverse_transform(test_predict)"
   ]
  },
  {
   "cell_type": "code",
   "execution_count": 26,
   "metadata": {
    "colab": {
     "base_uri": "https://localhost:8080/"
    },
    "id": "lPwf_s7Ov72I",
    "outputId": "ea6b5f4a-215f-4ded-ee41-2881d4c582cb"
   },
   "outputs": [
    {
     "data": {
      "text/plain": [
       "21.921029517793514"
      ]
     },
     "execution_count": 26,
     "metadata": {},
     "output_type": "execute_result"
    }
   ],
   "source": [
    "### Calculate RMSE performance metrics\n",
    "import math\n",
    "from sklearn.metrics import mean_squared_error\n",
    "math.sqrt(mean_squared_error(y_train,train_predict))"
   ]
  },
  {
   "cell_type": "code",
   "execution_count": 27,
   "metadata": {
    "colab": {
     "base_uri": "https://localhost:8080/"
    },
    "id": "OXnYo-JJwAuc",
    "outputId": "eace4246-e454-4046-a091-6a7df1419f2d"
   },
   "outputs": [
    {
     "data": {
      "text/plain": [
       "87.89226551455482"
      ]
     },
     "execution_count": 27,
     "metadata": {},
     "output_type": "execute_result"
    }
   ],
   "source": [
    "### Test Data RMSE\n",
    "math.sqrt(mean_squared_error(ytest,test_predict))"
   ]
  },
  {
   "cell_type": "code",
   "execution_count": 28,
   "metadata": {
    "colab": {
     "base_uri": "https://localhost:8080/",
     "height": 265
    },
    "id": "E33hPT7TwFHv",
    "outputId": "45a9fc71-875c-459f-e48b-f7f1c3644ec1"
   },
   "outputs": [
    {
     "data": {
      "image/png": "[encoded data removed]",
      "text/plain": [
       "<Figure size 432x288 with 1 Axes>"
      ]
     },
     "metadata": {
      "needs_background": "light"
     },
     "output_type": "display_data"
    }
   ],
   "source": [
    "### Plotting \n",
    "# shift train predictions for plotting\n",
    "look_back=100\n",
    "trainPredictPlot = numpy.empty_like(df1)\n",
    "trainPredictPlot[:, :] = np.nan\n",
    "trainPredictPlot[look_back:len(train_predict)+look_back, :] = train_predict\n",
    "# shift test predictions for plotting\n",
    "testPredictPlot = numpy.empty_like(df1)\n",
    "testPredictPlot[:, :] = numpy.nan\n",
    "testPredictPlot[len(train_predict)+(look_back*2)+1:len(df1)-1, :] = test_predict\n",
    "# plot baseline and predictions\n",
    "plt.plot(scaler.inverse_transform(df1))\n",
    "plt.plot(trainPredictPlot)\n",
    "plt.plot(testPredictPlot)\n",
    "plt.show()"
   ]
  },
  {
   "cell_type": "code",
   "execution_count": 29,
   "metadata": {
    "colab": {
     "base_uri": "https://localhost:8080/"
    },
    "id": "txIphGn5wHot",
    "outputId": "f778012f-535e-4393-d113-c1a68371742e"
   },
   "outputs": [
    {
     "data": {
      "text/plain": [
       "3100"
      ]
     },
     "execution_count": 29,
     "metadata": {},
     "output_type": "execute_result"
    }
   ],
   "source": [
    "len(test_data)"
   ]
  },
  {
   "cell_type": "code",
   "execution_count": 30,
   "metadata": {
    "colab": {
     "base_uri": "https://localhost:8080/"
    },
    "id": "F87b10YVwMSB",
    "outputId": "2609289f-0061-403a-95e2-8ee9582d39c2"
   },
   "outputs": [
    {
     "data": {
      "text/plain": [
       "(1, 2759)"
      ]
     },
     "execution_count": 30,
     "metadata": {},
     "output_type": "execute_result"
    }
   ],
   "source": [
    "x_input=test_data[341:].reshape(1,-1)\n",
    "x_input.shape"
   ]
  },
  {
   "cell_type": "code",
   "execution_count": 31,
   "metadata": {
    "id": "KFOFmLKLwOei"
   },
   "outputs": [],
   "source": [
    "temp_input=list(x_input)\n",
    "temp_input=temp_input[0].tolist()"
   ]
  },
  {
   "cell_type": "code",
   "execution_count": 32,
   "metadata": {
    "colab": {
     "base_uri": "https://localhost:8080/"
    },
    "id": "sBpIP6rmwRoI",
    "outputId": "233d7178-aa2e-46f1-d3ff-0a61fca1a0ac",
    "scrolled": true
   },
   "outputs": [
    {
     "data": {
      "text/plain": [
       "[0.10886571144633435,\n",
       " 0.10749103223893473,\n",
       " 0.10317607746936396,\n",
       " 0.10214506806381425,\n",
       " 0.09996849750763163,\n",
       " 0.09920478521834293,\n",
       " 0.09515712756503317,\n",
       " 0.09893748810208193,\n",
       " 0.09817377581279321,\n",
       " 0.09851744561464314,\n",
       " 0.10069401617082573,\n",
       " 0.10222144074940315,\n",
       " 0.09813559675329893,\n",
       " 0.09622632331337731,\n",
       " 0.09553898370967749,\n",
       " 0.09431704987345571,\n",
       " 0.0951189412222387,\n",
       " 0.09763918158027121,\n",
       " 0.09702821466216031,\n",
       " 0.10115224500105897,\n",
       " 0.10015942193830374,\n",
       " 0.100350353652276,\n",
       " 0.100617650768537,\n",
       " 0.09874656367140984,\n",
       " 0.09805922406771003,\n",
       " 0.09630268871566605,\n",
       " 0.0951189412222387,\n",
       " 0.09332422681070045,\n",
       " 0.09248414183582283,\n",
       " 0.0886655949559796,\n",
       " 0.08752003380534672,\n",
       " 0.08809281438066316,\n",
       " 0.08851285686810197,\n",
       " 0.09061305473869567,\n",
       " 0.09244595549302838,\n",
       " 0.09286599798046719,\n",
       " 0.09233140374794518,\n",
       " 0.09446978796133333,\n",
       " 0.09561534911196624,\n",
       " 0.09679910388869377,\n",
       " 0.09706640100495478,\n",
       " 0.0946988987347999,\n",
       " 0.09599720525661061,\n",
       " 0.0969518419765714,\n",
       " 0.09557717005247196,\n",
       " 0.09832652118397102,\n",
       " 0.09821196215558767,\n",
       " 0.09931934424672628,\n",
       " 0.09954845502019283,\n",
       " 0.09874656367140984,\n",
       " 0.09905204713046528,\n",
       " 0.09821196215558767,\n",
       " 0.10019760828109817,\n",
       " 0.09954845502019283,\n",
       " 0.09790647869653221,\n",
       " 0.09653180677243277,\n",
       " 0.0972191390928324,\n",
       " 0.09744825714959911,\n",
       " 0.0953862383384997,\n",
       " 0.0945843469897167,\n",
       " 0.09317148143952264,\n",
       " 0.09282781163767274,\n",
       " 0.0932096677823171,\n",
       " 0.09401155913110008,\n",
       " 0.09443160161853889,\n",
       " 0.09298055700885054,\n",
       " 0.09217865837676738,\n",
       " 0.09236959009073964,\n",
       " 0.09145313971357329,\n",
       " 0.09168225048703983,\n",
       " 0.09061305473869567,\n",
       " 0.09103309722613448,\n",
       " 0.08992571513499588,\n",
       " 0.0892765618740905,\n",
       " 0.09091853819775113,\n",
       " 0.09107128356892893,\n",
       " 0.0924077764335341,\n",
       " 0.09114764897121766,\n",
       " 0.09103309722613448,\n",
       " 0.09133858068518995,\n",
       " 0.09072761376707902,\n",
       " 0.09553898370967749,\n",
       " 0.09523350025062206,\n",
       " 0.09557717005247196,\n",
       " 0.09637906140125495,\n",
       " 0.09595901891381614,\n",
       " 0.09676091754589931,\n",
       " 0.09569172179755517,\n",
       " 0.09362971026975589,\n",
       " 0.0929423706660561,\n",
       " 0.09427886353066126,\n",
       " 0.094087931816689,\n",
       " 0.0938970073860169,\n",
       " 0.0932096677823171,\n",
       " 0.09317148143952264,\n",
       " 0.09275143895208383,\n",
       " 0.09095672454054557,\n",
       " 0.09263688720700064,\n",
       " 0.0929423706660561,\n",
       " 0.09332422681070045,\n",
       " 0.09347696489857808,\n",
       " 0.09355333758416699,\n",
       " 0.09446978796133333,\n",
       " 0.09641724774404942,\n",
       " 0.09599720525661061,\n",
       " 0.09718096003333812,\n",
       " 0.09825014849838212,\n",
       " 0.09550079736688306,\n",
       " 0.09630268871566605,\n",
       " 0.09672273120310486,\n",
       " 0.09656998583192705,\n",
       " 0.09584446716873296,\n",
       " 0.09855563195743758,\n",
       " 0.09912841253275402,\n",
       " 0.10000668385042609,\n",
       " 0.1014959148029089,\n",
       " 0.10256511055125306,\n",
       " 0.10424526593440797,\n",
       " 0.10287059401030851,\n",
       " 0.10329062921444716,\n",
       " 0.1021832544066087,\n",
       " 0.10203050903543089,\n",
       " 0.10256511055125306,\n",
       " 0.1025269242084586,\n",
       " 0.10153410114570335,\n",
       " 0.09996849750763163,\n",
       " 0.09970120039137063,\n",
       " 0.09821196215558767,\n",
       " 0.09729551177842131,\n",
       " 0.09832652118397102,\n",
       " 0.09775374060865458,\n",
       " 0.09790647869653221,\n",
       " 0.09557717005247196,\n",
       " 0.09653180677243277,\n",
       " 0.0960735779421995,\n",
       " 0.09630268871566605,\n",
       " 0.09611176428499398,\n",
       " 0.09909023347325974,\n",
       " 0.10233599249448636,\n",
       " 0.10283240766751406,\n",
       " 0.10214506806381425,\n",
       " 0.1022596270921976,\n",
       " 0.10363429901629706,\n",
       " 0.10306151844098059,\n",
       " 0.10405434150373587,\n",
       " 0.10371067170188596,\n",
       " 0.10512353725208003,\n",
       " 0.10600180128645192,\n",
       " 0.10653639551897393,\n",
       " 0.10619272571712404,\n",
       " 0.10584905591527412,\n",
       " 0.10684187897802938,\n",
       " 0.10730010780826264,\n",
       " 0.10772014301240128,\n",
       " 0.10684187897802938,\n",
       " 0.10661276820456285,\n",
       " 0.106460022833385,\n",
       " 0.10600180128645192,\n",
       " 0.10623091205991847,\n",
       " 0.10649820917617947,\n",
       " 0.10691825166361828,\n",
       " 0.10657458186176838,\n",
       " 0.10970578913791179,\n",
       " 0.10886571144633435,\n",
       " 0.10741465955334581,\n",
       " 0.10699462434920717,\n",
       " 0.10867477973236209,\n",
       " 0.10730010780826264,\n",
       " 0.10772014301240128,\n",
       " 0.1090948222198009,\n",
       " 0.10836929627330662,\n",
       " 0.10791107472637354,\n",
       " 0.10665095454735729,\n",
       " 0.10802562647145673,\n",
       " 0.10829293087101789,\n",
       " 0.10955305105003416,\n",
       " 0.10989672085188407,\n",
       " 0.10561994514180757,\n",
       " 0.10554357245621866,\n",
       " 0.10653639551897393,\n",
       " 0.10634547108830184,\n",
       " 0.10523808899716323,\n",
       " 0.10569631782739648,\n",
       " 0.1073382941510571,\n",
       " 0.10764377761011254,\n",
       " 0.106460022833385,\n",
       " 0.10466530842184676,\n",
       " 0.10371067170188596,\n",
       " 0.10363429901629706,\n",
       " 0.10260328961074734,\n",
       " 0.10283240766751406,\n",
       " 0.10355792633070815,\n",
       " 0.1029851457553917,\n",
       " 0.10119043134385344,\n",
       " 0.10119043134385344,\n",
       " 0.10187777094755325,\n",
       " 0.10103768597267564,\n",
       " 0.10115224500105897,\n",
       " 0.09954845502019283,\n",
       " 0.09924297156113737,\n",
       " 0.09970120039137063,\n",
       " 0.09874656367140984,\n",
       " 0.09786829235373774,\n",
       " 0.09859381830023202,\n",
       " 0.09851744561464314,\n",
       " 0.09668454486031042,\n",
       " 0.09771555426586012,\n",
       " 0.09775374060865458,\n",
       " 0.09660817217472152,\n",
       " 0.09431704987345571,\n",
       " 0.09427886353066126,\n",
       " 0.09435522893295,\n",
       " 0.09637906140125495,\n",
       " 0.0962645023728716,\n",
       " 0.09718096003333812,\n",
       " 0.09821196215558767,\n",
       " 0.09748644349239358,\n",
       " 0.09668454486031042,\n",
       " 0.09699002831936586,\n",
       " 0.09744825714959911,\n",
       " 0.09660817217472152,\n",
       " 0.0969518419765714,\n",
       " 0.0972191390928324,\n",
       " 0.09809741041050447,\n",
       " 0.09951026867739839,\n",
       " 0.09970120039137063,\n",
       " 0.09920478521834293,\n",
       " 0.09886111541649302,\n",
       " 0.09756280889468233,\n",
       " 0.09752462255188786,\n",
       " 0.09672273120310486,\n",
       " 0.09653180677243277,\n",
       " 0.09542442468129414,\n",
       " 0.09569172179755517,\n",
       " 0.09802103772491559,\n",
       " 0.09710458734774922,\n",
       " 0.09744825714959911,\n",
       " 0.09966301404857619,\n",
       " 0.10038853271177028,\n",
       " 0.10164865289078653,\n",
       " 0.09863200464302647,\n",
       " 0.09763918158027121,\n",
       " 0.09821196215558767,\n",
       " 0.09916659887554848,\n",
       " 0.09813559675329893,\n",
       " 0.09844108021235438,\n",
       " 0.09828833484117656,\n",
       " 0.09767736792306567,\n",
       " 0.0964936204296383,\n",
       " 0.0963408750584605,\n",
       " 0.09523350025062206,\n",
       " 0.09347696489857808,\n",
       " 0.09328604046790599,\n",
       " 0.09393519372881134,\n",
       " 0.09404974547389452,\n",
       " 0.09317148143952264,\n",
       " 0.09194954760330083,\n",
       " 0.09187317491771194,\n",
       " 0.09202592028888974,\n",
       " 0.09385882104322245,\n",
       " 0.09420249084507236,\n",
       " 0.09515712756503317,\n",
       " 0.0929423706660561,\n",
       " 0.09214047203397291,\n",
       " 0.09095672454054557,\n",
       " 0.09133858068518995,\n",
       " 0.09152950511586203,\n",
       " 0.09107128356892893,\n",
       " 0.09114764897121766,\n",
       " 0.09019301225125687,\n",
       " 0.09145313971357329,\n",
       " 0.09214047203397291,\n",
       " 0.09030757127964022,\n",
       " 0.09130039434239548,\n",
       " 0.09229321740515074,\n",
       " 0.09309510875393372,\n",
       " 0.09420249084507236,\n",
       " 0.09378244835763355,\n",
       " 0.09370607567204463,\n",
       " 0.09244595549302838,\n",
       " 0.09588265351152742,\n",
       " 0.09817377581279321,\n",
       " 0.09748644349239358,\n",
       " 0.09893748810208193,\n",
       " 0.09901386078767083,\n",
       " 0.09905204713046528,\n",
       " 0.10019760828109817,\n",
       " 0.10187777094755325,\n",
       " 0.1024505515228697,\n",
       " 0.10134316943173108,\n",
       " 0.10099950691318135,\n",
       " 0.10134316943173108,\n",
       " 0.10073220251362017,\n",
       " 0.1019159572903477,\n",
       " 0.10119043134385344,\n",
       " 0.10481805379302457,\n",
       " 0.1029851457553917,\n",
       " 0.10313789112656951,\n",
       " 0.10477986745023013,\n",
       " 0.10623091205991847,\n",
       " 0.10688006532082382,\n",
       " 0.1040161551609414,\n",
       " 0.10550538611342421,\n",
       " 0.10428345227720243,\n",
       " 0.10378704438747487,\n",
       " 0.10199232269263644,\n",
       " 0.1024505515228697,\n",
       " 0.09870837732861538,\n",
       " 0.09771555426586012,\n",
       " 0.09313329509672819,\n",
       " 0.09733369812121576,\n",
       " 0.09206410663168418,\n",
       " 0.09584446716873296,\n",
       " 0.09550079736688306,\n",
       " 0.09706640100495478,\n",
       " 0.09645543408684387,\n",
       " 0.0960735779421995,\n",
       " 0.09385882104322245,\n",
       " 0.09149131877306757,\n",
       " 0.09122402165680657,\n",
       " 0.09404974547389452,\n",
       " 0.09473708507759436,\n",
       " 0.09347696489857808,\n",
       " 0.0960735779421995,\n",
       " 0.09832652118397102,\n",
       " 0.09981575213645383,\n",
       " 0.1012286176866479,\n",
       " 0.09973937945086492,\n",
       " 0.09817377581279321,\n",
       " 0.09706640100495478,\n",
       " 0.09893748810208193,\n",
       " 0.09977756579365936,\n",
       " 0.09794466503932667,\n",
       " 0.09851744561464314,\n",
       " 0.09909023347325974,\n",
       " 0.10084676154200355,\n",
       " 0.10271784863913071,\n",
       " 0.10321426381215841,\n",
       " 0.10355792633070815,\n",
       " 0.10267966229633625,\n",
       " 0.09889930175928748,\n",
       " 0.09534805199570524,\n",
       " 0.09534805199570524,\n",
       " 0.09679910388869377,\n",
       " 0.09767736792306567,\n",
       " 0.09733369812121576,\n",
       " 0.09683729023148822,\n",
       " 0.0946988987347999,\n",
       " 0.09332422681070045,\n",
       " 0.09641724774404942,\n",
       " 0.09851744561464314,\n",
       " 0.10023579462389264,\n",
       " 0.09989212482204274,\n",
       " 0.1025269242084586,\n",
       " 0.10275603498192515,\n",
       " 0.10260328961074734,\n",
       " 0.10344337458562496,\n",
       " 0.10378704438747487,\n",
       " 0.10267966229633625,\n",
       " 0.1039397824753525,\n",
       " 0.1032524428716527,\n",
       " 0.10290878035310297,\n",
       " 0.10336700190003606,\n",
       " 0.10348156092841941,\n",
       " 0.10203050903543089,\n",
       " 0.10119043134385344,\n",
       " 0.10371067170188596,\n",
       " 0.10267966229633625,\n",
       " 0.10134316943173108,\n",
       " 0.09889930175928748,\n",
       " 0.0989756744448764,\n",
       " 0.1009613205703869,\n",
       " 0.09989212482204274,\n",
       " 0.10199232269263644,\n",
       " 0.10336700190003606,\n",
       " 0.09970120039137063,\n",
       " 0.10000668385042609,\n",
       " 0.10241236518007525,\n",
       " 0.10183958460475881,\n",
       " 0.1017632119191699,\n",
       " 0.09920478521834293,\n",
       " 0.09718096003333812,\n",
       " 0.0962645023728716,\n",
       " 0.0951189412222387,\n",
       " 0.09431704987345571,\n",
       " 0.09309510875393372,\n",
       " 0.09244595549302838,\n",
       " 0.09462253333251115,\n",
       " 0.0945079743041278,\n",
       " 0.09733369812121576,\n",
       " 0.09618813697058287,\n",
       " 0.09595901891381614,\n",
       " 0.09779192695144903,\n",
       " 0.09763918158027121,\n",
       " 0.09741007080680467,\n",
       " 0.09664635851751598,\n",
       " 0.09779192695144903,\n",
       " 0.09706640100495478,\n",
       " 0.09802103772491559,\n",
       " 0.09737188446401022,\n",
       " 0.09725732543562686,\n",
       " 0.09893748810208193,\n",
       " 0.09714277369054368,\n",
       " 0.09905204713046528,\n",
       " 0.09802103772491559,\n",
       " 0.09821196215558767,\n",
       " 0.09905204713046528,\n",
       " 0.09909023347325974,\n",
       " 0.09825014849838212,\n",
       " 0.09901386078767083,\n",
       " 0.09878474273090411,\n",
       " 0.10187777094755325,\n",
       " 0.10428345227720243,\n",
       " 0.10535264802554657,\n",
       " 0.10699462434920717,\n",
       " 0.10558175879901312,\n",
       " 0.10596361494365748,\n",
       " 0.10550538611342421,\n",
       " 0.10657458186176838,\n",
       " 0.10752921858172919,\n",
       " 0.10756740492452366,\n",
       " 0.10745284589614028,\n",
       " 0.10703281069200164,\n",
       " 0.11310429353031622,\n",
       " 0.11318066621590511,\n",
       " 0.11169143526342232,\n",
       " 0.11253151295499976,\n",
       " 0.11230240218153321,\n",
       " 0.11127139277598351,\n",
       " 0.11272244466897201,\n",
       " 0.11241696120991658,\n",
       " 0.11379163313401604,\n",
       " 0.11402075119078274,\n",
       " 0.11512812599862118,\n",
       " 0.11497538791074355,\n",
       " 0.11554816848605999,\n",
       " 0.11673191597948734,\n",
       " 0.11715195846692615,\n",
       " 0.11612094906137645,\n",
       " 0.11642643252043187,\n",
       " 0.11516631234141564,\n",
       " 0.11440260005212692,\n",
       " 0.11913760459243668,\n",
       " 0.11898485922125886,\n",
       " 0.11971038516775312,\n",
       " 0.11906123190684777,\n",
       " 0.11944308805149212,\n",
       " 0.11986312325563077,\n",
       " 0.11936671536590322,\n",
       " 0.12135236149141373,\n",
       " 0.12085594631838602,\n",
       " 0.1229561514722799,\n",
       " 0.12215426012349691,\n",
       " 0.12108505709185256,\n",
       " 0.12016860671468621,\n",
       " 0.12123780246303038,\n",
       " 0.12188694844063556,\n",
       " 0.12181058303834683,\n",
       " 0.12200151475231909,\n",
       " 0.12440718879866808,\n",
       " 0.12478905222661262,\n",
       " 0.12509452840236787,\n",
       " 0.12413989168240708,\n",
       " 0.12261248167043,\n",
       " 0.12181058303834683,\n",
       " 0.12150509957929137,\n",
       " 0.12184876938114128,\n",
       " 0.12188694844063556,\n",
       " 0.1241017126229128,\n",
       " 0.1238344155066518,\n",
       " 0.12257428804433537,\n",
       " 0.12230699092807437,\n",
       " 0.12284158516059637,\n",
       " 0.1229561514722799,\n",
       " 0.12161965860767474,\n",
       " 0.11883211385008105,\n",
       " 0.12001586862680858,\n",
       " 0.11841207864594241,\n",
       " 0.11600639003299307,\n",
       " 0.11554816848605999,\n",
       " 0.11795384981570915,\n",
       " 0.1173046965548038,\n",
       " 0.11833570596035349,\n",
       " 0.11971038516775312,\n",
       " 0.11856481673382006,\n",
       " 0.11806840884409252,\n",
       " 0.12345255207870727,\n",
       " 0.12230699092807437,\n",
       " 0.12154328592208583,\n",
       " 0.12261248167043,\n",
       " 0.12226881186858009,\n",
       " 0.12177239669555237,\n",
       " 0.12192514206673019,\n",
       " 0.12188694844063556,\n",
       " 0.12108505709185256,\n",
       " 0.12093231900397494,\n",
       " 0.11795384981570915,\n",
       " 0.1166937296366929,\n",
       " 0.11612094906137645,\n",
       " 0.11711377212413171,\n",
       " 0.1170373994385428,\n",
       " 0.11864118941940896,\n",
       " 0.11680828866507625,\n",
       " 0.11501356697023783,\n",
       " 0.11382981947681049,\n",
       " 0.11314247987311066,\n",
       " 0.11142413814716132,\n",
       " 0.11325703890149402,\n",
       " 0.11329522524428849,\n",
       " 0.1108131712290504,\n",
       " 0.1106604258578726,\n",
       " 0.11062223951507814,\n",
       " 0.11253151295499976,\n",
       " 0.11169143526342232,\n",
       " 0.11111865468810586,\n",
       " 0.10829293087101789,\n",
       " 0.10867477973236209,\n",
       " 0.10852204164448445,\n",
       " 0.11172962160621677,\n",
       " 0.11127139277598351,\n",
       " 0.11287518275684968,\n",
       " 0.11001127259696726,\n",
       " 0.11150051083275023,\n",
       " 0.11088953663133914,\n",
       " 0.11169143526342232,\n",
       " 0.11428804830704374,\n",
       " 0.11360070870334393,\n",
       " 0.11688466135066515,\n",
       " 0.11776292538503706,\n",
       " 0.11474626985397685,\n",
       " 0.11688466135066515,\n",
       " 0.11371526773172728,\n",
       " 0.11428804830704374,\n",
       " 0.11486082888236018,\n",
       " 0.11386800581960492,\n",
       " 0.11646461886322634,\n",
       " 0.11635005983484299,\n",
       " 0.11711377212413171,\n",
       " 0.11688466135066515,\n",
       " 0.1149372015679491,\n",
       " 0.11421167562145483,\n",
       " 0.11321885255869957,\n",
       " 0.1115386898922445,\n",
       " 0.10898026319141754,\n",
       " 0.11188235969409442,\n",
       " 0.11207329140806667,\n",
       " 0.11291336909964413,\n",
       " 0.11593002463070436,\n",
       " 0.1167701023222818,\n",
       " 0.11466990445168809,\n",
       " 0.11146232448995577,\n",
       " 0.11096590931692807,\n",
       " 0.10974397548070623,\n",
       " 0.11100409565972251,\n",
       " 0.11329522524428849,\n",
       " 0.11283699641405523,\n",
       " 0.11218784315314985,\n",
       " 0.11195873237968332,\n",
       " 0.11111865468810586,\n",
       " 0.11325703890149402,\n",
       " 0.11402075119078274,\n",
       " 0.11520449868421011,\n",
       " 0.11547179580047108,\n",
       " 0.11612094906137645,\n",
       " 0.11581546560232099,\n",
       " 0.11570090657393765,\n",
       " 0.11470808351118238,\n",
       " 0.11497538791074355,\n",
       " 0.1171901448097206,\n",
       " 0.11764836635665371,\n",
       " 0.1170373994385428,\n",
       " 0.11726651021200934,\n",
       " 0.11627369443255425,\n",
       " 0.11520449868421011,\n",
       " 0.11635005983484299,\n",
       " 0.11684647500787071,\n",
       " 0.11661735695110399,\n",
       " 0.1166937296366929,\n",
       " 0.11543360945767664,\n",
       " 0.11734288289759824,\n",
       " 0.11570090657393765,\n",
       " 0.11570090657393765,\n",
       " 0.11936671536590322,\n",
       " 0.11783929807062596,\n",
       " 0.11696102675295388,\n",
       " 0.11722833115251506,\n",
       " 0.1171901448097206,\n",
       " 0.1178011117278315,\n",
       " 0.11883211385008105,\n",
       " 0.11883211385008105,\n",
       " 0.11871756210499786,\n",
       " 0.11822114693197015,\n",
       " 0.11974857151054757,\n",
       " 0.11875574844779231,\n",
       " 0.1171901448097206,\n",
       " 0.11570090657393765,\n",
       " 0.11486082888236018,\n",
       " 0.11482264253956573,\n",
       " 0.11329522524428849,\n",
       " 0.11226421583873876,\n",
       " 0.11291336909964413,\n",
       " 0.11367708138893282,\n",
       " 0.11432623464983818,\n",
       " 0.11363889504613837,\n",
       " 0.11337159792987739,\n",
       " 0.11146232448995577,\n",
       " 0.1103167560560227,\n",
       " 0.11020220431093951,\n",
       " 0.11115684103090032,\n",
       " 0.11234058852432768,\n",
       " 0.11226421583873876,\n",
       " 0.11264607198338313,\n",
       " 0.11230240218153321,\n",
       " 0.109018449534212,\n",
       " 0.10657458186176838,\n",
       " 0.10676550629244047,\n",
       " 0.10619272571712404,\n",
       " 0.10611635303153512,\n",
       " 0.10737647321055137,\n",
       " 0.1086366006728678,\n",
       " 0.11237877486712212,\n",
       " 0.11230240218153321,\n",
       " 0.11279881007126076,\n",
       " 0.11367708138893282,\n",
       " 0.11069861220066704,\n",
       " 0.10966760279511735,\n",
       " 0.10974397548070623,\n",
       " 0.10741465955334581,\n",
       " 0.10309970478377506,\n",
       " 0.10214506806381425,\n",
       " 0.10145772846011444,\n",
       " 0.10092313422759244,\n",
       " 0.10172502557637544,\n",
       " 0.10164865289078653,\n",
       " 0.10256511055125306,\n",
       " 0.10542902071113548,\n",
       " 0.10424526593440797,\n",
       " 0.10306151844098059,\n",
       " 0.10413071418932475,\n",
       " 0.10256511055125306,\n",
       " 0.10130499037223681,\n",
       " 0.10057946442574255,\n",
       " 0.100350353652276,\n",
       " 0.1014959148029089,\n",
       " 0.10172502557637544,\n",
       " 0.10069401617082573,\n",
       " 0.1025269242084586,\n",
       " 0.10397796881814696,\n",
       " 0.1036724853590915,\n",
       " 0.10317607746936396,\n",
       " 0.10203050903543089,\n",
       " 0.10313789112656951,\n",
       " 0.10489441919531331,\n",
       " 0.1039397824753525,\n",
       " 0.10535264802554657,\n",
       " 0.10447438399117467,\n",
       " 0.1029851457553917,\n",
       " 0.10222144074940315,\n",
       " 0.10260328961074734,\n",
       " 0.10103768597267564,\n",
       " 0.10164865289078653,\n",
       " 0.10512353725208003,\n",
       " 0.10371067170188596,\n",
       " 0.1017632119191699,\n",
       " 0.1015722874884978,\n",
       " 0.10103768597267564,\n",
       " 0.10161047383129225,\n",
       " 0.10069401617082573,\n",
       " 0.10210688172101978,\n",
       " 0.10233599249448636,\n",
       " 0.10355792633070815,\n",
       " 0.10290878035310297,\n",
       " 0.10371067170188596,\n",
       " 0.10371067170188596,\n",
       " 0.10332881555724162,\n",
       " 0.10508535090928556,\n",
       " 0.10516171631157431,\n",
       " 0.10611635303153512,\n",
       " 0.10623091205991847,\n",
       " 0.10661276820456285,\n",
       " 0.10600180128645192,\n",
       " 0.10447438399117467,\n",
       " 0.10630728474550738,\n",
       " 0.10443619764838022,\n",
       " 0.10466530842184676,\n",
       " 0.10405434150373587,\n",
       " 0.10382523073026932,\n",
       " 0.10485623285251885,\n",
       " 0.10603998762924637,\n",
       " 0.10611635303153512,\n",
       " 0.10668914089015173,\n",
       " 0.10672732723294619,\n",
       " 0.10661276820456285,\n",
       " 0.10676550629244047,\n",
       " 0.10607817397204083,\n",
       " 0.10462712207905231,\n",
       " 0.10565813148460204,\n",
       " 0.10416890053211922,\n",
       " 0.10416890053211922,\n",
       " 0.10584905591527412,\n",
       " 0.10581086957247966,\n",
       " 0.10638365743109629,\n",
       " 0.10714736243708484,\n",
       " 0.10791107472637354,\n",
       " 0.10691825166361828,\n",
       " 0.1071091760942904,\n",
       " 0.10657458186176838,\n",
       " 0.10607817397204083,\n",
       " 0.10623091205991847,\n",
       " 0.10626909840271292,\n",
       " 0.1071091760942904,\n",
       " 0.10672732723294619,\n",
       " 0.10695643800641273,\n",
       " 0.10726192146546819,\n",
       " 0.10779651569799019,\n",
       " 0.10699462434920717,\n",
       " 0.10752921858172919,\n",
       " 0.10718554877987928,\n",
       " 0.10718554877987928,\n",
       " 0.10798744741196245,\n",
       " 0.10890389778912879,\n",
       " 0.10890389778912879,\n",
       " 0.1096294164523229,\n",
       " 0.10871296607515654,\n",
       " 0.10886571144633435,\n",
       " 0.1092475675909787,\n",
       " 0.1088275251035399,\n",
       " 0.11272244466897201,\n",
       " 0.11528087136979899,\n",
       " 0.11016401796814505,\n",
       " 0.10959123739282861,\n",
       " 0.10920938124818425,\n",
       " 0.11027856971322823,\n",
       " 0.10974397548070623,\n",
       " 0.10959123739282861,\n",
       " 0.11333341158708293,\n",
       " 0.11738106924039268,\n",
       " 0.1165028052060208,\n",
       " 0.12093231900397494,\n",
       " 0.12161965860767474,\n",
       " 0.12104687803235828,\n",
       " 0.1241780853085017,\n",
       " 0.12604916512232867,\n",
       " 0.12459812779594051,\n",
       " 0.1262782831790954,\n",
       " 0.12753841064141183,\n",
       " 0.12853122642086692,\n",
       " 0.126851071037712,\n",
       " 0.12562913720149022,\n",
       " 0.1243690097391738,\n",
       " 0.12448356148425699,\n",
       " 0.1257818680060677,\n",
       " 0.12769114144598928,\n",
       " 0.1289130752822111,\n",
       " 0.12979135388318333,\n",
       " 0.13280799484764322,\n",
       " 0.13360990076302656,\n",
       " 0.13273162216205434,\n",
       " 0.13181517906818815,\n",
       " 0.13005865099944433,\n",
       " 0.13051687254637742,\n",
       " 0.13338078270625986,\n",
       " 0.13284618847373786,\n",
       " 0.13341896176575413,\n",
       " 0.13292256115932677,\n",
       " 0.13555735326244245,\n",
       " 0.13326623096117665,\n",
       " 0.13246432504579334,\n",
       " 0.13315166464949313,\n",
       " 0.13586282943819775,\n",
       " 0.13509913171550936,\n",
       " 0.13269344310256004,\n",
       " 0.13330441002067095,\n",
       " 0.13223522155562695,\n",
       " 0.13101328771940515,\n",
       " 0.13330441002067095,\n",
       " 0.13322803733508204,\n",
       " 0.13173880638259924,\n",
       " 0.12753841064141183,\n",
       " 0.12669832566653422,\n",
       " 0.12841667467578372,\n",
       " 0.12822573567851128,\n",
       " 0.13082234872213272,\n",
       " 0.13185335812768242,\n",
       " 0.13154788195192715,\n",
       " 0.13086054234822733,\n",
       " 0.12925674508406101,\n",
       " 0.129524042200322,\n",
       " 0.13028775448961072,\n",
       " 0.13074599060314415,\n",
       " 0.13082234872213272,\n",
       " 0.13215884887003804,\n",
       " 0.13593920212378666,\n",
       " 0.13586282943819775,\n",
       " 0.13777210287811936,\n",
       " 0.13815396630606389,\n",
       " 0.1361301411210591,\n",
       " 0.13498456540382583,\n",
       " 0.11955763979657533,\n",
       " 0.12188694844063556,\n",
       " 0.12116142977744147,\n",
       " 0.12169602400996347,\n",
       " 0.11951945345378087,\n",
       " 0.12039772477145293,\n",
       " 0.12009224131239749,\n",
       " 0.12127598880582482,\n",
       " 0.12123780246303038,\n",
       " 0.12058864920212502,\n",
       " 0.12142872689370249,\n",
       " 0.12070320823050838,\n",
       " 0.1202449794002751,\n",
       " 0.122077887437908,\n",
       " 0.1252472737735457,\n",
       " 0.1245217551103516,\n",
       " 0.12517090108795678,\n",
       " 0.12272703341551318,\n",
       " 0.12318525496244627,\n",
       " 0.12104687803235828,\n",
       " 0.12108505709185256,\n",
       " 0.11951945345378087,\n",
       " 0.12039772477145293,\n",
       " 0.12035953842865846,\n",
       " 0.12333800033362409,\n",
       " 0.13234977330071013,\n",
       " 0.13005865099944433,\n",
       " 0.12666013204043958,\n",
       " 0.1257436889465734,\n",
       " 0.1277675141315782,\n",
       " 0.12719474083956192,\n",
       " 0.12139054055090802,\n",
       " 0.11879393479058677,\n",
       " 0.11890848653566996,\n",
       " 0.11860300307661452,\n",
       " 0.12055046285933058,\n",
       " 0.12333800033362409,\n",
       " 0.12467450048152941,\n",
       " 0.12448356148425699,\n",
       " 0.1257818680060677,\n",
       " 0.1249036039716958,\n",
       " 0.12540001914472348,\n",
       " 0.1268892500972063,\n",
       " 0.1281111839334281,\n",
       " 0.1248654249122015,\n",
       " 0.12467450048152941,\n",
       " 0.1235671183903908,\n",
       " 0.12379622188055718,\n",
       " 0.12478905222661262,\n",
       " 0.12669832566653422,\n",
       " 0.1267365047260285,\n",
       " 0.12788208044326171,\n",
       " 0.1291803723984721,\n",
       " 0.12895126890830572,\n",
       " 0.12902764159389463,\n",
       " 0.1268128774116174,\n",
       " 0.12570549532047878,\n",
       " 0.12593461337724549,\n",
       " 0.1285694054803612,\n",
       " 0.12998227831385542,\n",
       " 0.13120421215007724,\n",
       " 0.13135695752125504,\n",
       " 0.13192973081327133,\n",
       " 0.1329989192783153,\n",
       " 0.13315166464949313,\n",
       " 0.13326623096117665,\n",
       " 0.13170062732310495,\n",
       " 0.1285694054803612,\n",
       " 0.12841667467578372,\n",
       " 0.13609194749496445,\n",
       " 0.13548098057685357,\n",
       " 0.13529005614618148,\n",
       " 0.13536642883177036,\n",
       " 0.13487001365874265,\n",
       " 0.13532823520567575,\n",
       " 0.13689383884374745,\n",
       " 0.13956682457295777,\n",
       " 0.14544739026390044,\n",
       " 0.142850777220279,\n",
       " 0.14391996568532303,\n",
       " 0.1431944470221289,\n",
       " 0.142316182987757,\n",
       " 0.14537101757831153,\n",
       " 0.14483642334578953,\n",
       " 0.1441490837420897,\n",
       " 0.14170521606964612,\n",
       " 0.1399486880009023,\n",
       " 0.14124699452271303,\n",
       " 0.14246892835893482,\n",
       " 0.14311807433654,\n",
       " 0.143385371452801,\n",
       " 0.14227798936166236,\n",
       " 0.14323262608162315,\n",
       " 0.14525646583322835,\n",
       " 0.14647839966945014,\n",
       " 0.14594380543692814,\n",
       " 0.1483494794832771,\n",
       " 0.14476005066020062,\n",
       " 0.14613472986760023,\n",
       " 0.14747121544890524,\n",
       " 0.14518009314763944,\n",
       " 0.14327081970771782,\n",
       " 0.14178158875523503,\n",
       " 0.13975774900362983,\n",
       " 0.1405214612929186,\n",
       " 0.13910860302602468,\n",
       " 0.1393377210827914,\n",
       " 0.13807759362047498,\n",
       " 0.14017779149106868,\n",
       " 0.13949045188736886,\n",
       " 0.14124699452271303,\n",
       " 0.14262165916351227,\n",
       " 0.142048885871496,\n",
       " 0.142048885871496,\n",
       " 0.1425071074184291,\n",
       " 0.1415524706984683,\n",
       " 0.1405978339785075,\n",
       " 0.13761937207354188,\n",
       " 0.1386885605385859,\n",
       " 0.13620649924004766,\n",
       " 0.13532823520567575,\n",
       " 0.13727570227169197,\n",
       " 0.13322803733508204,\n",
       " 0.13628287192563654,\n",
       " 0.14002504611989086,\n",
       " 0.1405214612929186,\n",
       " 0.13857400879350268,\n",
       " 0.13777210287811936,\n",
       " 0.13685565978425318,\n",
       " 0.13735207495728088,\n",
       " 0.1402159851171633,\n",
       " 0.1372375086455974,\n",
       " 0.13815396630606389,\n",
       " 0.13964319725854668,\n",
       " 0.14040690954783538,\n",
       " 0.1441490837420897,\n",
       " 0.1389558576548469,\n",
       " 0.13845944248181913,\n",
       " 0.13643561729681436,\n",
       " 0.13781029650421397,\n",
       " 0.1392613483972025,\n",
       " 0.14017779149106868,\n",
       " 0.14159064975796257,\n",
       " 0.14273622547519582,\n",
       " 0.14327081970771782,\n",
       " 0.1433089987672121,\n",
       " 0.1425452864779234,\n",
       " 0.1428889562797733,\n",
       " 0.14380541394023982,\n",
       " 0.1446836779746117,\n",
       " 0.14357629588347307,\n",
       " 0.14300352259145682,\n",
       " 0.14273622547519582,\n",
       " 0.14422545642767862,\n",
       " 0.14594380543692814,\n",
       " 0.14391996568532303,\n",
       " 0.14632565429827232,\n",
       " 0.14518009314763944,\n",
       " 0.14533283851881723,\n",
       " 0.14437820179885644,\n",
       " 0.14407271105650082,\n",
       " 0.14483642334578953,\n",
       " 0.14579106006575032,\n",
       " 0.14434000817276182,\n",
       " 0.14361448950956773,\n",
       " 0.1449509750908727,\n",
       " 0.15067879541063756,\n",
       " 0.14960960694559355,\n",
       " 0.1536572718822035,\n",
       " 0.15300811133799797,\n",
       " 0.1543064178598087,\n",
       " 0.1536954509416978,\n",
       " 0.15159525307110408,\n",
       " 0.14995327674744346,\n",
       " 0.15354270557051997,\n",
       " 0.15617751224023602,\n",
       " 0.1578194739972963,\n",
       " 0.15755217688103526,\n",
       " 0.15625387035922458,\n",
       " 0.15190072924685935,\n",
       " 0.15163343213059835,\n",
       " 0.15170980481618726,\n",
       " 0.1541918661147255,\n",
       " 0.14995327674744346,\n",
       " 0.14938048888882685,\n",
       " 0.14926593714374364,\n",
       " 0.15144250769992626,\n",
       " 0.1539245689984645,\n",
       " 0.15243532347938135,\n",
       " 0.15216802636312032,\n",
       " 0.15235896536039278,\n",
       " 0.15121338964315953,\n",
       " 0.15186255018736508,\n",
       " 0.15205347461803717,\n",
       " 0.15571927612670258,\n",
       " 0.15434459691930297,\n",
       " 0.1539245689984645,\n",
       " 0.15239714441988708,\n",
       " 0.15121338964315953,\n",
       " 0.15022057386370447,\n",
       " 0.14880771559681055,\n",
       " 0.15018238023760982,\n",
       " ...]"
      ]
     },
     "execution_count": 32,
     "metadata": {},
     "output_type": "execute_result"
    }
   ],
   "source": [
    "temp_input"
   ]
  },
  {
   "cell_type": "code",
   "execution_count": 33,
   "metadata": {
    "id": "kBnIQBu2xnXz"
   },
   "outputs": [],
   "source": [
    "day_new=np.arange(1,101)\n",
    "day_pred=np.arange(101,131)"
   ]
  },
  {
   "cell_type": "code",
   "execution_count": 34,
   "metadata": {
    "colab": {
     "base_uri": "https://localhost:8080/"
    },
    "id": "letcfYyeybu3",
    "outputId": "53535b93-5036-4fce-cddc-e6111f108a6d"
   },
   "outputs": [
    {
     "data": {
      "text/plain": [
       "8857"
      ]
     },
     "execution_count": 34,
     "metadata": {},
     "output_type": "execute_result"
    }
   ],
   "source": [
    "len(df1)"
   ]
  },
  {
   "cell_type": "code",
   "execution_count": 35,
   "metadata": {
    "colab": {
     "base_uri": "https://localhost:8080/"
    },
    "id": "v0Wxe7I1zBnS",
    "outputId": "0c9eb72e-7d6b-45bb-997c-f004eedfd691"
   },
   "outputs": [
    {
     "name": "stdout",
     "output_type": "stream",
     "text": [
      "0 day input [0.10749103 0.10317608 0.10214507 ... 0.96387652 0.96261639 0.96139449]\n",
      "WARNING:tensorflow:Model was constructed with shape (None, 100, 1) for input KerasTensor(type_spec=TensorSpec(shape=(None, 100, 1), dtype=tf.float32, name='lstm_input'), name='lstm_input', description=\"created by layer 'lstm_input'\"), but it was called on an input with incompatible shape (None, 2758, 1).\n",
      "0 day output [[0.87783545]]\n",
      "1 day input [0.10317608 0.10214507 0.0999685  ... 0.96261639 0.96139449 0.87783545]\n",
      "1 day output [[0.7794197]]\n",
      "2 day input [0.10214507 0.0999685  0.09920479 ... 0.96139449 0.87783545 0.77941972]\n",
      "2 day output [[0.68774146]]\n",
      "3 day input [0.0999685  0.09920479 0.09515713 ... 0.87783545 0.77941972 0.68774146]\n",
      "3 day output [[0.6121928]]\n",
      "4 day input [0.09920479 0.09515713 0.09893749 ... 0.77941972 0.68774146 0.61219281]\n",
      "4 day output [[0.5488404]]\n",
      "5 day input [0.09515713 0.09893749 0.09817378 ... 0.68774146 0.61219281 0.5488404 ]\n",
      "5 day output [[0.493029]]\n",
      "6 day input [0.09893749 0.09817378 0.09851745 ... 0.61219281 0.5488404  0.493029  ]\n",
      "6 day output [[0.44197673]]\n",
      "7 day input [0.09817378 0.09851745 0.10069402 ... 0.5488404  0.493029   0.44197673]\n",
      "7 day output [[0.39477122]]\n",
      "8 day input [0.09851745 0.10069402 0.10222144 ... 0.493029   0.44197673 0.39477122]\n",
      "8 day output [[0.35157216]]\n",
      "9 day input [0.10069402 0.10222144 0.0981356  ... 0.44197673 0.39477122 0.35157216]\n",
      "9 day output [[0.31287813]]\n",
      "10 day input [0.10222144 0.0981356  0.09622632 ... 0.39477122 0.35157216 0.31287813]\n",
      "10 day output [[0.27908248]]\n",
      "11 day input [0.0981356  0.09622632 0.09553898 ... 0.35157216 0.31287813 0.27908248]\n",
      "11 day output [[0.25029767]]\n",
      "12 day input [0.09622632 0.09553898 0.09431705 ... 0.31287813 0.27908248 0.25029767]\n",
      "12 day output [[0.22635883]]\n",
      "13 day input [0.09553898 0.09431705 0.09511894 ... 0.27908248 0.25029767 0.22635883]\n",
      "13 day output [[0.2069103]]\n",
      "14 day input [0.09431705 0.09511894 0.09763918 ... 0.25029767 0.22635883 0.2069103 ]\n",
      "14 day output [[0.19150445]]\n",
      "15 day input [0.09511894 0.09763918 0.09702821 ... 0.22635883 0.2069103  0.19150445]\n",
      "15 day output [[0.17967807]]\n",
      "16 day input [0.09763918 0.09702821 0.10115225 ... 0.2069103  0.19150445 0.17967807]\n",
      "16 day output [[0.17099716]]\n",
      "17 day input [0.09702821 0.10115225 0.10015942 ... 0.19150445 0.17967807 0.17099716]\n",
      "17 day output [[0.16507594]]\n",
      "18 day input [0.10115225 0.10015942 0.10035035 ... 0.17967807 0.17099716 0.16507594]\n",
      "18 day output [[0.16157979]]\n",
      "19 day input [0.10015942 0.10035035 0.10061765 ... 0.17099716 0.16507594 0.16157979]\n",
      "19 day output [[0.16022015]]\n",
      "20 day input [0.10035035 0.10061765 0.09874656 ... 0.16507594 0.16157979 0.16022015]\n",
      "20 day output [[0.16074692]]\n",
      "21 day input [0.10061765 0.09874656 0.09805922 ... 0.16157979 0.16022015 0.16074692]\n",
      "21 day output [[0.16294068]]\n",
      "22 day input [0.09874656 0.09805922 0.09630269 ... 0.16022015 0.16074692 0.16294068]\n",
      "22 day output [[0.16660608]]\n",
      "23 day input [0.09805922 0.09630269 0.09511894 ... 0.16074692 0.16294068 0.16660608]\n",
      "23 day output [[0.17156668]]\n",
      "24 day input [0.09630269 0.09511894 0.09332423 ... 0.16294068 0.16660608 0.17156668]\n",
      "24 day output [[0.17766061]]\n",
      "25 day input [0.09511894 0.09332423 0.09248414 ... 0.16660608 0.17156668 0.17766061]\n",
      "25 day output [[0.18473761]]\n",
      "26 day input [0.09332423 0.09248414 0.08866559 ... 0.17156668 0.17766061 0.18473761]\n",
      "26 day output [[0.19265638]]\n",
      "27 day input [0.09248414 0.08866559 0.08752003 ... 0.17766061 0.18473761 0.19265638]\n",
      "27 day output [[0.20128267]]\n",
      "28 day input [0.08866559 0.08752003 0.08809281 ... 0.18473761 0.19265638 0.20128267]\n",
      "28 day output [[0.21048771]]\n",
      "29 day input [0.08752003 0.08809281 0.08851286 ... 0.19265638 0.20128267 0.21048771]\n",
      "29 day output [[0.22014695]]\n",
      "[[0.8778354525566101], [0.7794197201728821], [0.6877414584159851], [0.6121928095817566], [0.5488404035568237], [0.49302899837493896], [0.44197672605514526], [0.3947712182998657], [0.3515721559524536], [0.3128781318664551], [0.2790824770927429], [0.2502976655960083], [0.2263588309288025], [0.20691029727458954], [0.19150444865226746], [0.1796780675649643], [0.17099715769290924], [0.16507594287395477], [0.16157978773117065], [0.16022014617919922], [0.16074691712856293], [0.16294068098068237], [0.1666060835123062], [0.1715666800737381], [0.17766061425209045], [0.18473760783672333], [0.19265638291835785], [0.20128266513347626], [0.2104877084493637], [0.22014695405960083]]\n"
     ]
    }
   ],
   "source": [
    "# demonstrate prediction for next 10 days\n",
    "from numpy import array\n",
    "\n",
    "lst_output=[]\n",
    "n_steps=2758\n",
    "i=0\n",
    "while(i<30):\n",
    "    \n",
    "    if(len(temp_input)>100):\n",
    "        #print(temp_input)\n",
    "        x_input=np.array(temp_input[1:])\n",
    "        print(\"{} day input {}\".format(i,x_input))\n",
    "        x_input=x_input.reshape(1,-1)\n",
    "        x_input = x_input.reshape((1, n_steps, 1))\n",
    "        #print(x_input)\n",
    "        yhat = model.predict(x_input, verbose=0)\n",
    "        print(\"{} day output {}\".format(i,yhat))\n",
    "        temp_input.extend(yhat[0].tolist())\n",
    "        temp_input=temp_input[1:]\n",
    "        #print(temp_input)\n",
    "        lst_output.extend(yhat.tolist())\n",
    "        i=i+1\n",
    "    else:\n",
    "        x_input = x_input.reshape((1, n_steps,1))\n",
    "        yhat = model.predict(x_input, verbose=0)\n",
    "        print(yhat[0])\n",
    "        temp_input.extend(yhat[0].tolist())\n",
    "        print(len(temp_input))\n",
    "        lst_output.extend(yhat.tolist())\n",
    "        i=i+1\n",
    "    \n",
    "\n",
    "print(lst_output)"
   ]
  },
  {
   "cell_type": "code",
   "execution_count": 36,
   "metadata": {
    "colab": {
     "base_uri": "https://localhost:8080/",
     "height": 282
    },
    "id": "WCZAaWOzyeau",
    "outputId": "62cc9d84-5a13-45b5-d313-c09c91f329d9"
   },
   "outputs": [
    {
     "data": {
      "text/plain": [
       "[<matplotlib.lines.Line2D at 0x20f0510caf0>]"
      ]
     },
     "execution_count": 36,
     "metadata": {},
     "output_type": "execute_result"
    },
    {
     "data": {
      "image/png": "[encoded data removed]",
      "text/plain": [
       "<Figure size 432x288 with 1 Axes>"
      ]
     },
     "metadata": {
      "needs_background": "light"
     },
     "output_type": "display_data"
    }
   ],
   "source": [
    "plt.plot(day_new,scaler.inverse_transform(df1[8757:]))\n",
    "plt.plot(day_pred,scaler.inverse_transform(lst_output))"
   ]
  },
  {
   "cell_type": "code",
   "execution_count": 37,
   "metadata": {
    "colab": {
     "base_uri": "https://localhost:8080/",
     "height": 282
    },
    "id": "pYfpecAoyhod",
    "outputId": "465dee48-03d9-4330-c137-97379656a33a"
   },
   "outputs": [
    {
     "data": {
      "text/plain": [
       "[<matplotlib.lines.Line2D at 0x20f01e171f0>]"
      ]
     },
     "execution_count": 37,
     "metadata": {},
     "output_type": "execute_result"
    },
    {
     "data": {
      "image/png": "[encoded data removed]",
      "text/plain": [
       "<Figure size 432x288 with 1 Axes>"
      ]
     },
     "metadata": {
      "needs_background": "light"
     },
     "output_type": "display_data"
    }
   ],
   "source": [
    "df3=df1.tolist()\n",
    "df3.extend(lst_output)\n",
    "plt.plot(df3[1200:])"
   ]
  },
  {
   "cell_type": "code",
   "execution_count": 38,
   "metadata": {
    "id": "CMvB4l-5ynEB"
   },
   "outputs": [],
   "source": [
    "df3=scaler.inverse_transform(df3).tolist()"
   ]
  },
  {
   "cell_type": "code",
   "execution_count": 39,
   "metadata": {
    "colab": {
     "base_uri": "https://localhost:8080/",
     "height": 282
    },
    "id": "mdGWZ5yPyqOP",
    "outputId": "65fcf1d4-cec2-4f65-f85d-9c792f8596ac"
   },
   "outputs": [
    {
     "data": {
      "text/plain": [
       "[<matplotlib.lines.Line2D at 0x20eda0c5b50>]"
      ]
     },
     "execution_count": 39,
     "metadata": {},
     "output_type": "execute_result"
    },
    {
     "data": {
      "image/png": "[encoded data removed]",
      "text/plain": [
       "<Figure size 432x288 with 1 Axes>"
      ]
     },
     "metadata": {
      "needs_background": "light"
     },
     "output_type": "display_data"
    }
   ],
   "source": [
    "plt.plot(df3)"
   ]
  },
  {
   "cell_type": "code",
   "execution_count": 40,
   "metadata": {},
   "outputs": [
    {
     "name": "stdout",
     "output_type": "stream",
     "text": [
      "R2 score : 0.99\n"
     ]
    }
   ],
   "source": [
    "test_predict1=model.predict(X_test)\n",
    "from sklearn.metrics import r2_score\n",
    "print(\"R2 score : %.2f\" % r2_score(ytest,test_predict1))"
   ]
  },
  {
   "cell_type": "code",
   "execution_count": null,
   "metadata": {},
   "outputs": [],
   "source": []
  }
 ],
 "metadata": {
  "colab": {
   "name": "stock.ipynb",
   "provenance": []
  },
  "kernelspec": {
   "display_name": "gpu2",
   "language": "python",
   "name": "gpu2"
  },
  "language_info": {
   "codemirror_mode": {
    "name": "ipython",
    "version": 3
   },
   "file_extension": ".py",
   "mimetype": "text/x-python",
   "name": "python",
   "nbconvert_exporter": "python",
   "pygments_lexer": "ipython3",
   "version": "3.9.6"
  }
 },
 "nbformat": 4,
 "nbformat_minor": 1
}
